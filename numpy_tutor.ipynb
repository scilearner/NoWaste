{
 "cells": [
  {
   "attachments": {},
   "cell_type": "markdown",
   "metadata": {},
   "source": [
    "在线运行\n",
    "\n",
    "[Binder在线运行](http://mybinder.org/repo/scilearner/NoWaste/numpy_tutor.ipynb) 但我没用过 binder\n",
    "\n",
    "<a href=\"https://colab.research.google.com/github/scilearner/NoWaste/blob/master/numpy_tutorj.ipynb\" target=\"_parent\"><img src=\"https://colab.research.google.com/assets/colab-badge.svg\" alt=\"Open In Colab\"/></a>\n",
    "\n",
    "推荐 https://github.com/rougier/numpy-100  感觉有点难了， 锻炼使用技巧"
   ]
  },
  {
   "attachments": {},
   "cell_type": "markdown",
   "metadata": {},
   "source": [
    "# NumPy 用什么用？ 练习版\n",
    "\n",
    "大数据MapReduce(Hadoop等), GPU编程(CuPy, PyTorch, Tensorflow, 百度的PaddlePaddle, 华为的MindSpore, 旷视的忘了), 花钱的Matlab\n",
    "\n",
    "知名的Python科学计算/数值计算扩展库， numpy,scipy,matplotlib---pandas算数据分析，scikit-learn是机器学习库。\n",
    "\n",
    "4月份 试讲了一次， 半个小时重头戏都没讲到， 但幻灯片做都做了（改都改了）， 不如完成一下。\n",
    "\n"
   ]
  },
  {
   "attachments": {},
   "cell_type": "markdown",
   "metadata": {},
   "source": [
    "幻灯片改动自 黄海广​ 教授 中国海洋大学，  https://zhuanlan.zhihu.com/p/391261981\n",
    "\n",
    "没有向他问授权， 但我也不打算直接讲PPT\n",
    "\n",
    "这是哪？ 这是 jupyter notebook， 还讲啥PPT啊。"
   ]
  },
  {
   "attachments": {},
   "cell_type": "markdown",
   "metadata": {},
   "source": [
    "\n",
    "### 整体形式\n",
    "\n",
    "当然不是全部留空， 比如练习时， 安装命令还要现打？ 当然不浪费这时间啦。\n",
    "\n",
    "1份 完整版 notebook --- 我虽然说过很多次要脱稿， 但, 咳， 理想是美好的， 现实再说吧\n",
    "\n",
    "1份 练习版 notebook\n",
    "\n",
    "这里是练习版\n",
    "\n",
    "考虑到视频长度， 肯定分段"
   ]
  },
  {
   "attachments": {},
   "cell_type": "markdown",
   "metadata": {},
   "source": [
    "## 题外话\n",
    "\n",
    "学习没那么容易（但也不一定“难于上青天”）\n",
    "\n",
    "用 斯科特•扬 《如何高效学习》（Learn More, Study Less!）里 说的 （我也不查原文了）  知识点之间尽可能多建立联结， 有利于学习和掌握 —— 也许在纯教育学里 这完全不是什么新颖的观点， 但人家的事迹很有吸引力。\n",
    "\n",
    "那 NumPy 这种 一般教学模式是什么样的呢？ \n",
    "\n",
    "1. 挑一些常用函数 \n",
    "2. 逐个介绍， 并给一两个例子\n",
    "\n",
    "由于数值计算， 例子全是数值， 建立的联结就是比较脆弱、孤立的。\n",
    "\n",
    "也就是说， 对零基础入门来说， 枯燥了点、理解有限， 而有基础的可能只是想查个别情景下的使用\n",
    "\n",
    "\n",
    "我希望 我这个能更强调具体使用场景（一两个）， 并且以 jupyter notebook的形式， 也更有利于 查询检索——虽然我的表达能力 可能影响会影响检索质量和效率。\n",
    "\n",
    "所以， 我尝试以一个主线来串联， 建立多一点的联结\n",
    "\n",
    "1. 使用场景（不一定有）\n",
    "2. 失败场景（不一定有）\n",
    "3. 代码例子\n",
    "4. 相关函数的对比\n",
    "\n",
    "也许好一点， 大概好得不多。"
   ]
  },
  {
   "attachments": {},
   "cell_type": "markdown",
   "metadata": {},
   "source": [
    "## 预备\n",
    "\n",
    "- Python          https://www.python.org/ \n",
    "- Miniconda https://conda.io/miniconda.html  \n",
    "- 推荐这个 **Anaconda** www.anaconda.com/ \n",
    "\n",
    "**软件**\n",
    "\n",
    "- VSCode            https://code.visualstudio.com/ \n",
    "- PyCharm Pro    https://www.jetbrains.com/pycharm/download\n",
    "\n",
    "\n",
    "VS Code 带 jupytext, 应该好于 jupyterlab > jupyter notebook\n",
    "\n",
    "比如目录功能， jupyter notebook 需要安装插件， 也挺麻烦的\n",
    "\n",
    "另外， 我喜欢用 vim 的快捷键\n",
    "\n",
    "另外， 除非电脑太卡了， 不然 NumPy的学习 不至于要用 Google Colab？\n",
    "\n",
    "**虚拟环境**\n",
    "\n",
    "创建虚拟环境 Virtual Environment\n",
    "\n",
    "\n",
    "> virtualenv venv   \n",
    "> source venv/bin/activate \n",
    "\n",
    "还是更推荐用 anaconda 创建——尤其是要安装 tensorflow-gpu时， 你需要找相应版本的 cudatoolkit和cudnn，\n",
    "\n",
    "> conda create -n myenv python=3.9  \n",
    "> conda activate myenv\n",
    "\n",
    "\n",
    "VSCode 在右上角有 \"Select Kernel\" 选择 环境/解释器路径\n"
   ]
  },
  {
   "cell_type": "markdown",
   "metadata": {},
   "source": [
    "# 安装"
   ]
  },
  {
   "cell_type": "code",
   "execution_count": null,
   "metadata": {},
   "outputs": [],
   "source": [
    "!pip install ipython jupyterlab jupyter notebook \n",
    "!pip install numpy scipy matplotlib pandas torch\n",
    "\n",
    "# https://developer.aliyun.com/article/652884\n",
    "# -i https://pypi.tuna.tsinghua.edu.cn/simple \n",
    "# --trusted-host  mirrors.aliyun.com"
   ]
  },
  {
   "cell_type": "code",
   "execution_count": null,
   "metadata": {},
   "outputs": [],
   "source": [
    "import time\n",
    "\n",
    "np.set_printoptions(precision=3)"
   ]
  },
  {
   "attachments": {},
   "cell_type": "markdown",
   "metadata": {},
   "source": [
    "# NumPy 是什么\n",
    "\n",
    "NumPy(Numerical Python)是Python的一种开源的**数值计算**扩展库。 提供了两种基本对象：\n",
    "\n",
    "1. ndarray：全称（n-dimensional array object）是储存单一数据类型的多维数组。\n",
    "2. ufunc：全称（universal function object）它是一种能够对数组进行处理的函数。\n"
   ]
  },
  {
   "attachments": {},
   "cell_type": "markdown",
   "metadata": {},
   "source": [
    "## 为什么要用 NumPy\n",
    "\n",
    "跟原生Python的对比"
   ]
  },
  {
   "cell_type": "code",
   "execution_count": null,
   "metadata": {},
   "outputs": [],
   "source": [
    "import time\n",
    "\n",
    "np.set_printoptions(precision=3)"
   ]
  },
  {
   "cell_type": "code",
   "execution_count": null,
   "metadata": {},
   "outputs": [],
   "source": [
    "# 100 x 100 的矩阵乘法， \n",
    "# 时间复杂度  \n",
    "n = 100\n",
    "a1 = np.random.random(size = (100, 100))\n",
    "a2 = np.random.random((100, 100))\n",
    "a3 = np.zeros(shape = (100, 100))"
   ]
  },
  {
   "cell_type": "code",
   "execution_count": null,
   "metadata": {},
   "outputs": [],
   "source": [
    "# 原生python\n",
    "# 偷懒了， 没用 list 列表\n",
    "\n",
    "start = time.time()\n",
    "\n",
    "for i in range(n):\n",
    "    for j in range(n):\n",
    "        for k in range(n):\n",
    "            a3[i][j] += a1[i][k] * a2[k][j]\n",
    "end = time.time()\n",
    "print(end - start, 'second(s)')"
   ]
  },
  {
   "cell_type": "code",
   "execution_count": null,
   "metadata": {},
   "outputs": [],
   "source": [
    "start = time.time()\n",
    "a3_np = np.dot(a1, a2)\n",
    "end = time.time()\n",
    "print(end - start, 'second(s)')"
   ]
  },
  {
   "cell_type": "code",
   "execution_count": null,
   "metadata": {},
   "outputs": [],
   "source": [
    "a3_np - a3"
   ]
  },
  {
   "cell_type": "code",
   "execution_count": null,
   "metadata": {},
   "outputs": [],
   "source": []
  },
  {
   "attachments": {},
   "cell_type": "markdown",
   "metadata": {},
   "source": [
    "# 主线介绍\n",
    "\n",
    "本文使用的例子如下图， 是一个3路softmax 分类任务的流程\n",
    "\n",
    "![Softmax 3-分类](https://raw.githubusercontent.com/scilearner/NoWaste/master/image/3_class_demo.png)\n",
    "\n",
    "为了简单， 对数据做一个简单假设， $X \\in R^{n \\times d}, z \\in R^{d \\times K}$, 其中 $n=300, d=5, K=3$,  大概如图\n",
    "\n",
    "![Softmax 3-分类 数据](https://raw.githubusercontent.com/scilearner/NoWaste/master/image/3_gaussian.png)"
   ]
  },
  {
   "cell_type": "code",
   "execution_count": null,
   "metadata": {},
   "outputs": [],
   "source": [
    "# 为了得到一个分类预测、即走完流程图\n",
    "# 需要哪些功能/函数\n",
    "\n",
    "\n",
    "\n",
    "# 大胆猜， 反正没检查"
   ]
  },
  {
   "attachments": {},
   "cell_type": "markdown",
   "metadata": {},
   "source": [
    "\n",
    "需要\n",
    "\n",
    "1. 数据$X\\in R^{n \\times d}$——读取或生成创建\n",
    "2. 模型参数$W\\in R^{d \\times K}$——生成创建\n",
    "3. 数据通过模型（进行运算）$z = XW \\in R^{n\\times K}—— 矩阵乘法 \n",
    "4. softmax里的 指数函数、求和 —— 涉及数轴和 **广播**\n",
    "5. 交叉熵的计算 涉及到的内容 现在还说不清楚 —— **索引**与 **切片**\n",
    "\n",
    "$X$ 和 $W$ 在 NumPy里 都是 用 ndarray对象表示\n",
    "\n",
    "和 PyTorch 不一样，  PyTorch以 张量Tensor 为基础， 但模型参数默认有梯度， 和纯粹的数据是不太一样的"
   ]
  },
  {
   "attachments": {},
   "cell_type": "markdown",
   "metadata": {},
   "source": [
    "\n",
    "## 数组概念\n",
    "\n",
    "N 维数组对象 ndarray (n-dimensional array object)\n",
    "\n",
    "在不关注底层实现的情况下， \n",
    "\n",
    "所谓“用于存放同类型元素的多维数组”， 那是相对原生Python的列表、元组的优势， 而且仅限于 数值计算 领域。\n",
    "\n",
    "- 比如， 根据 数组里具体的元素个数 和 元素类型， 可以直接得到该数组占的内存大小 —— C语言、JAVA语言都是这样\n",
    "- 又比如， NumPy的数组对象 简化逻辑、 提高运算速度、不用写循环——就是封装的函数——更复杂的逻辑 该写循环还是要写循环的\n",
    "\n",
    "这种“特点”， 属于 概念提炼， 属于一种总结、写作能力， 又需要相关背景。 自己总结不出来， 但看了总结，又觉得“无用”。\n"
   ]
  },
  {
   "attachments": {},
   "cell_type": "markdown",
   "metadata": {},
   "source": [
    "# NumPy 数组的创建\n",
    "\n",
    "想要得到一个 ndarray 数组对象，方法：\n",
    "\n",
    "1. 来自其他   \n",
    "   图片、CSV、 原生Python的列表list/元组tuple、 PyTorch的张量、 Pandas、 多个ndarry数组\n",
    "2. 创建数组\n",
    "\n",
    "\n",
    "## 其他转换"
   ]
  },
  {
   "cell_type": "code",
   "execution_count": null,
   "metadata": {},
   "outputs": [],
   "source": [
    "# 读图片的模块 有很多种——我的意思就是我不怎么看\n",
    "# https://zhuanlan.zhihu.com/p/402833064\n",
    "\n",
    "# 略过\n",
    "\n",
    "# CSV， 起码有两个， 一个python内置csv, 另一个pandas\n",
    "# 略\n",
    "\n",
    "# PyTorch\n",
    "tensor_torch.detach().cpu().numpy()"
   ]
  },
  {
   "cell_type": "code",
   "execution_count": null,
   "metadata": {},
   "outputs": [],
   "source": [
    "# Python的列表或元组\n",
    "# data = np.array( 列表或元组 )\n",
    "\n",
    "list_1 = [1, 2, 3, 4]\n",
    "tuple_1 = (5, 6, 7, 8)\n",
    "\n",
    "array1 = \n",
    "array2 = \n",
    "\n",
    "type(array1), type(array2)"
   ]
  },
  {
   "cell_type": "code",
   "execution_count": null,
   "metadata": {},
   "outputs": [],
   "source": [
    "\n",
    "data1 =  # 创建一个一维数组\n",
    "\n",
    "data2 =  # 创建一个二维数组\n",
    "\n",
    "data1, data2 "
   ]
  },
  {
   "cell_type": "code",
   "execution_count": null,
   "metadata": {},
   "outputs": [],
   "source": [
    "# 但反过来， ndarray转list可就\n",
    "\n",
    "list(data1), list(data2)"
   ]
  },
  {
   "attachments": {},
   "cell_type": "markdown",
   "metadata": {},
   "source": [
    "## 数组的主要属性\n",
    "\n",
    "个人觉得最常用的只有一个shape 形状/维度\n",
    "\n",
    "其他的 一般不用记， 不是写这个， 我也不知道\n",
    "\n",
    "- ndim 维度个数 \n",
    "- size 元素个数 \n",
    "- dtype 元素类型 -- 这个跟shape无关， 但又非常简单"
   ]
  },
  {
   "cell_type": "code",
   "execution_count": null,
   "metadata": {},
   "outputs": [],
   "source": [
    "data1.shape, data2.shape"
   ]
  },
  {
   "attachments": {},
   "cell_type": "markdown",
   "metadata": {},
   "source": [
    "## 创建\n",
    "\n",
    "为了创建/初始化一个数组对象， 我们需要一些信息：\n",
    "\n",
    "1. 形状\n",
    "2. 数值——全0、全1、随机（高斯、均匀）、序列\n",
    "3. 类型——整数、浮点， 精度\n",
    "\n",
    "以数值内容作为函数名， 形状与类型则作为参数\n",
    "\n",
    "所以还是得列举， 我们生成数据当然是用随机的概率分布， 但权重W 没规定"
   ]
  },
  {
   "cell_type": "code",
   "execution_count": null,
   "metadata": {},
   "outputs": [],
   "source": [
    "# 全0\n",
    "all_0 = \n",
    "\n",
    "# 全1\n",
    "all_1 = \n",
    "\n",
    "# 全 指定值\n",
    "all_v = \n",
    "\n",
    "# 只分配空间——原则上说，这个的必要性在哪里？\n",
    "all_empty = \n",
    "\n",
    "# 空——也没什么意义\n",
    "empty = \n",
    "\n",
    "# 单个数——更没必要\n",
    "v = \n"
   ]
  },
  {
   "attachments": {},
   "cell_type": "markdown",
   "metadata": {},
   "source": [
    "还有一些特定情况\n",
    "\n",
    "比如 \n",
    "- 单位矩阵/方阵 identity matrix  2d 2维的\n",
    "- 对角线矩阵\n",
    "\n",
    "各种序列\n",
    "- 用作 x轴 的自然数序列\n",
    "- 等差数列\n"
   ]
  },
  {
   "cell_type": "code",
   "execution_count": null,
   "metadata": {},
   "outputs": [],
   "source": [
    "# 0，1，2，3，4，....N-1 这种序列， 来自原生python 的 range 函数\n",
    "# numpy.arange([start, ]stop, [step, ]dtype=None, *, like=None)\n",
    "a = \n",
    "print(a)\n",
    "\n",
    "a2 = \n",
    "print(a2)\n",
    "\n",
    "# [start, stop] 闭区间的函数有没有？\n",
    "# numpy.linspace(start, stop, num=50, endpoint=True, retstep=False, dtype=None, axis=0)[source]\n",
    "# 等间隔\n",
    "a3 = \n",
    "print(a3)\n",
    "print(a3.shape)"
   ]
  },
  {
   "attachments": {},
   "cell_type": "markdown",
   "metadata": {},
   "source": [
    "自定义函数 创建ndarray\n",
    "\n",
    "numpy create custom array\n",
    "\n",
    "要用到 fromfunction\n",
    "\n",
    "另外还有像 ones_like(ndarray), zeros_like(ndarray), 用 ndarray.shape 传给 原函数 也行"
   ]
  },
  {
   "cell_type": "markdown",
   "metadata": {},
   "source": [
    "## 概率分布创建随机数组\n",
    "\n",
    "有很多分布都有实现， 但我们最常用的不外乎：\n",
    "\n",
    "1. 均匀分布， [0,1)的均匀分布\n",
    "2. 高斯分布， N(0, 1)的正态分布\n",
    "3. 离散的均匀分布， 也就是 掷N面骰子\n"
   ]
  },
  {
   "cell_type": "code",
   "execution_count": null,
   "metadata": {},
   "outputs": [],
   "source": [
    "# [0， 1) 的均匀分布\n",
    "a1 = \n",
    "print(a1.shape)\n",
    "\n",
    "# 无参数\n",
    "print(  )\n",
    "\n",
    "# 完整版均匀分布\n",
    "a2 = \n",
    "print(a2.shape)\n",
    "\n",
    "# 正态分布 N(0, 1)\n",
    "a3 = \n",
    "print(a3.shape)\n",
    "\n",
    "# 完整版高斯分布\n",
    "a4 = \n",
    "print(a4.shape)"
   ]
  },
  {
   "cell_type": "code",
   "execution_count": null,
   "metadata": {},
   "outputs": [],
   "source": [
    "# 画个随机图片玩玩\n",
    "\n",
    "img = np.random.uniform(low=0.0, high=1.0, size=(64, 64, 3))\n",
    "import matplotlib.pyplot as plt\n",
    "plt.imshow(img)\n",
    "plt.show()\n",
    "plt.close()\n"
   ]
  },
  {
   "cell_type": "code",
   "execution_count": null,
   "metadata": {},
   "outputs": [],
   "source": [
    "# 均匀分布里的 low 和 high， 可以是 数组\n",
    "\n",
    "a1 = \n",
    "print(a1)\n",
    "\n",
    "# 失败例子\n",
    "a2 = \n",
    "print(a2)\n",
    "\n",
    "# 高斯分布里的 loc 和 scale Standard deviation\n",
    "a3 = \n",
    "print(a3.shape)\n",
    "\n",
    "a4 = \n",
    "print(a4.shape)"
   ]
  },
  {
   "attachments": {},
   "cell_type": "markdown",
   "metadata": {},
   "source": [
    "### 随机种子\n",
    "\n",
    "为了随机采样结果的可重复性， NumPy 提供了 设置随机种子的函数\n"
   ]
  },
  {
   "cell_type": "code",
   "execution_count": null,
   "metadata": {},
   "outputs": [],
   "source": [
    "np.random.seed(42)\n",
    "v1 = np.random.rand()\n",
    "v2 = np.random.rand()\n",
    "print(v1, v2, v1==v2)"
   ]
  },
  {
   "cell_type": "code",
   "execution_count": null,
   "metadata": {},
   "outputs": [],
   "source": [
    "np.random.seed(42)\n",
    "v1 = np.random.rand()\n",
    "np.random.seed(42)\n",
    "v2 = np.random.rand()\n",
    "print(v1, v2, v1==v2)"
   ]
  },
  {
   "attachments": {},
   "cell_type": "markdown",
   "metadata": {},
   "source": [
    "## 元素类型\n",
    "\n",
    "ndarray里的元素具有相同的元素类型。\n",
    "\n",
    "常用的有int（整型， 无符号unsigned），float（浮点型），complex（复数型）， 再加上精度。 还有 True/False的布尔值。 字节值byte。\n",
    "\n",
    "类型: [int, uint, float]   \n",
    "精度: [8, 16, 32, 64]\n",
    "\n",
    "除了图片 0-255 是 uint8以外，  其他情况32、64该怎么选， 我也没太在意过。\n",
    "\n",
    "### 类型转换\n",
    "\n",
    "除了创建时， 参数设置dtype=... 以外， 需要直接转换类型"
   ]
  },
  {
   "cell_type": "code",
   "execution_count": null,
   "metadata": {},
   "outputs": [],
   "source": [
    "print(a2)\n",
    "a2.astype(np.int32)"
   ]
  },
  {
   "attachments": {},
   "cell_type": "markdown",
   "metadata": {},
   "source": [
    "副本或视图in-place\n",
    "\n",
    "函数 是返回一个副本 copy 呢， 还是返回一个视图view, in-place改变原数组的值\n",
    "\n",
    "没怎么在意， 也不需要在意， in-place的很少，而且基本能猜到"
   ]
  },
  {
   "attachments": {},
   "cell_type": "markdown",
   "metadata": {},
   "source": [
    "## 形状变换\n",
    "\n",
    "已知ndarray的形状属性 ndarray.shape\n",
    "\n",
    "有时需要变换形状\n",
    "\n",
    "比如， 需要把 (3, w, h)的图片 变成一个 3*w*h的向量， 又或者 (w, h, 3)的数轴顺序\n",
    "\n",
    "也许可以分为\n",
    "\n",
    "1. Shaping 变形\n",
    "2. Transposition 调换"
   ]
  },
  {
   "attachments": {},
   "cell_type": "markdown",
   "metadata": {},
   "source": [
    "### 变形\n",
    "\n",
    "shaping\n",
    "\n",
    "主要用的就是 ndarray.reshape(shape, order='C')\n",
    "\n",
    "其他 flatten什么的， 都可以用reshape来代替"
   ]
  },
  {
   "cell_type": "code",
   "execution_count": null,
   "metadata": {},
   "outputs": [],
   "source": [
    "a = np.arange(6)\n",
    "\n",
    "b = \n",
    "\n",
    "b\n",
    "# order 不用管它"
   ]
  },
  {
   "cell_type": "code",
   "execution_count": null,
   "metadata": {},
   "outputs": [],
   "source": [
    "a = np.arange(24)\n"
   ]
  },
  {
   "cell_type": "code",
   "execution_count": null,
   "metadata": {},
   "outputs": [],
   "source": [
    "# -1 的特殊指代 与 flatten\n",
    "feature_map = np.random.rand(100, 3, 32, 32) \n",
    "\n",
    "# 转特征向量\n",
    "feature_vector = \n",
    "print(feature_vector.shape)\n",
    "\n",
    "fv2 = \n",
    "print(fv2.shape)\n"
   ]
  },
  {
   "cell_type": "code",
   "execution_count": null,
   "metadata": {},
   "outputs": [],
   "source": [
    "# PyTorch里的flatten\n",
    "import torch\n",
    "fm = torch.randn(100, 3, 32, 32)\n",
    "print(fm.shape)\n",
    "fv = fm.reshape(100, -1)\n",
    "print(fv.shape)\n",
    "\n",
    "fv2 = fm.flatten()\n",
    "print(fv2.shape)\n",
    "\n",
    "fv3 = fm.flatten(start_dim=1, end_dim=-1)\n",
    "print(fv3.shape)\n",
    "\n",
    "# 为什么pytorch会多参数， 因为 Pytorch经常要处理 一个批次batch的数据"
   ]
  },
  {
   "attachments": {},
   "cell_type": "markdown",
   "metadata": {},
   "source": [
    "### 调换数轴顺序\n",
    "\n",
    "Transposition 轴axes的顺序调换\n",
    "\n",
    "常见情况\n",
    "\n",
    "1. 2维矩阵转换 $A^T A$,  像属性一样的 ndarray.T\n",
    "2. 通用的调换 ndarray.transpose\n",
    "\n",
    "#### 矩阵转置\n"
   ]
  },
  {
   "cell_type": "code",
   "execution_count": null,
   "metadata": {},
   "outputs": [],
   "source": [
    "# 转置\n",
    "\n",
    "m = np.arange(12).reshape(3, 4)\n",
    "print(m)\n",
    "\n",
    "m2 = \n",
    "print(m2)"
   ]
  },
  {
   "cell_type": "code",
   "execution_count": null,
   "metadata": {},
   "outputs": [],
   "source": [
    "m2[0][0] = 100\n",
    "print(m2)\n",
    "print(m)\n",
    "\n",
    "# 可见， 返回的是 ____   "
   ]
  },
  {
   "attachments": {},
   "cell_type": "markdown",
   "metadata": {},
   "source": [
    "#### 数轴调换\n",
    "\n",
    "好像也不怎么常用， 印象中只有 pytorch的图片格式 (c, size, size) 与 tf/numpy用的 (size, size, c)\n",
    "\n",
    "而 2D矩阵的 宽w和高h 用 转置就行了"
   ]
  },
  {
   "cell_type": "code",
   "execution_count": null,
   "metadata": {},
   "outputs": [],
   "source": [
    "img = np.random.rand(100, 3, 64, 64)\n",
    "img_after = \n",
    "img_after.shape"
   ]
  },
  {
   "cell_type": "code",
   "execution_count": null,
   "metadata": {},
   "outputs": [],
   "source": [
    "# n>2情况下的转置\n",
    "img = np.random.rand(1,2,3,4)\n",
    "img_after = img.T\n",
    "img_after.shape"
   ]
  },
  {
   "cell_type": "code",
   "execution_count": null,
   "metadata": {},
   "outputs": [],
   "source": [
    "# 转置\n",
    "\n",
    "m = np.arange(12).reshape(3, 4)\n",
    "print(m)\n",
    "m2 = m.transpose((1,0))\n",
    "print(m2)\n",
    "\n",
    "m2[0][0] = 100\n",
    "print(m2)\n",
    "print(m)"
   ]
  },
  {
   "attachments": {},
   "cell_type": "markdown",
   "metadata": {},
   "source": [
    "## 主线实例第一步-创建数组\n",
    "\n",
    "目标: 初始化 $𝑋 \\in 𝑅^{𝑛 \\times 𝑑}$ 及 $𝑊 \\in R^{d\\times K}$ \n",
    "\n",
    "𝑛=300, 𝑑=5, 三个类别K=3，对应高斯分布 均值、方差分别为：([0,0,0,0,0], 1), ([3,4,5,4,3], 0.5), ([3,-4,5,-4,3], 0.8)\n"
   ]
  },
  {
   "cell_type": "code",
   "execution_count": null,
   "metadata": {},
   "outputs": [],
   "source": [
    "# 设置随机数种子\n",
    "\n",
    "# 初始化 W\n",
    "\n",
    "W = \n",
    "\n",
    "# 初始化三个聚簇的数据 X ——不想搞平均\n",
    "\n",
    "# 初始化 标签 𝑌∈{0,1,2}^𝑛\n",
    "\n",
    "\n",
    "# 问题？"
   ]
  },
  {
   "attachments": {},
   "cell_type": "markdown",
   "metadata": {},
   "source": [
    "## 数组的合并/拼接\n",
    "\n",
    "多个多维数组进行 连接/合并/拼接 操作\n",
    "\n",
    "常用方法有：\n",
    "\n",
    "concatenate(), vstack(), hstack()\n",
    "\n",
    "仅介绍 concatenate()函数 对应 PyTorch torch.cat()\n",
    "\n",
    "> numpy.concatenate((a1, a2, ...), axis=0, out=None, dtype=None, casting=\"same_kind\")\n",
    "\n",
    "concatenate 函数会将 (𝑎1,𝑎2,…) 多个ndarray沿着 *指定axis轴* 进行拼接\n",
    "\n",
    "因此其他维数必须相等\n"
   ]
  },
  {
   "cell_type": "code",
   "execution_count": null,
   "metadata": {},
   "outputs": [],
   "source": [
    "# c1,c2, c3 150x5,100x5, 50x5, 所以 \n",
    "\n",
    "x = \n",
    "print(x.shape)\n",
    "\n",
    "# 轴不对就会失败\n",
    "x = \n",
    "\n",
    "\n",
    "# y1 y2 y3 只有一个数轴\n",
    "y = \n",
    "print(y.shape)"
   ]
  },
  {
   "cell_type": "code",
   "execution_count": null,
   "metadata": {},
   "outputs": [],
   "source": [
    "# 例子， 换个轴\n",
    "\n",
    "a1 = np.random.rand(10, 5, 10)\n",
    "a2 = np.random.rand(10, 1, 10)\n",
    "a = \n",
    "a.shape"
   ]
  },
  {
   "cell_type": "markdown",
   "metadata": {},
   "source": [
    "维度数不相等\n",
    "\n",
    "最常见的情况是已有n， 再加1"
   ]
  },
  {
   "cell_type": "code",
   "execution_count": null,
   "metadata": {},
   "outputs": [],
   "source": [
    "a1 = np.random.rand(10, 3, 32, 32)\n",
    "a2 = np.random.rand(3, 32, 32)\n",
    "\n",
    "# 用reshape的方式\n",
    "a = \n",
    "a.shape"
   ]
  },
  {
   "cell_type": "code",
   "execution_count": null,
   "metadata": {},
   "outputs": [],
   "source": [
    "# 用 np.newaxis 或 None 创建新轴\n",
    "a = np.concatenate((a1, a2[np.newaxis]), axis=0)  # 或 None\n",
    "a.shape"
   ]
  },
  {
   "cell_type": "code",
   "execution_count": null,
   "metadata": {},
   "outputs": [],
   "source": [
    "# 用 np.newaxis 或 None 创建新轴\n",
    "a1 = np.random.rand(10, 3, 32, 32)\n",
    "a2 = np.random.rand(10, 32, 32)\n",
    "a = np.concatenate((a1, a2[:, None]), axis=1)\n",
    "a.shape"
   ]
  },
  {
   "attachments": {},
   "cell_type": "markdown",
   "metadata": {},
   "source": [
    "## 总结/实例\n",
    "\n",
    "1. 多种创建函数\n",
    "2. 属性: 类型dtype, 类型转换 astype; 形状shape, 变形reshape, 调换 .T 和 transpose\n",
    "3. 多个ndarray的拼接"
   ]
  },
  {
   "cell_type": "code",
   "execution_count": null,
   "metadata": {},
   "outputs": [],
   "source": [
    "np.random.seed(666)\n",
    "\n",
    "# 初始化 W\n",
    "\n",
    "W = np.random.randn(5, 3)\n",
    "print(W.shape)\n",
    "\n",
    "# 初始化三个聚簇的数据 X ——不想搞平均\n",
    "c1 = np.random.normal([0,0,0,0,0], 1, size=(150, 5))\n",
    "c2 = np.random.normal([3,4,5,4,3], 0.5, size=(100, 5))\n",
    "c3 = np.random.normal([3,-4,5,-4,3], 0.8, size=(50, 5))\n",
    "\n",
    "# 初始化 标签 𝑌∈{0,1,2}^𝑛\n",
    "\n",
    "y1 = np.zeros(150, dtype=np.int32)\n",
    "y2 = np.ones(100, dtype=np.int32)\n",
    "y3 = np.full(50, 2, dtype=np.int32)\n",
    "\n",
    "x = np.concatenate((c1, c2, c3), axis=0)\n",
    "print(x.shape)\n",
    "\n",
    "y = np.concatenate((y1, y2, y3))\n",
    "print(y.shape)"
   ]
  },
  {
   "attachments": {},
   "cell_type": "markdown",
   "metadata": {},
   "source": [
    "# 数组运算 与 广播机制broadcasting"
   ]
  },
  {
   "attachments": {},
   "cell_type": "markdown",
   "metadata": {},
   "source": [
    "## 基本函数"
   ]
  },
  {
   "attachments": {},
   "cell_type": "markdown",
   "metadata": {},
   "source": [
    "## 数组相乘函数"
   ]
  },
  {
   "attachments": {},
   "cell_type": "markdown",
   "metadata": {},
   "source": [
    "## 主线实例第二步 数组相乘运算"
   ]
  },
  {
   "attachments": {},
   "cell_type": "markdown",
   "metadata": {},
   "source": [
    "## 批次数组运算\n",
    "\n",
    "batch matrix multiplication\n",
    "场景：  self-attention自注意力层\n"
   ]
  },
  {
   "attachments": {},
   "cell_type": "markdown",
   "metadata": {},
   "source": [
    "## 主线实例第三步 softmax计算"
   ]
  },
  {
   "cell_type": "markdown",
   "metadata": {},
   "source": [
    "## 数轴"
   ]
  },
  {
   "attachments": {},
   "cell_type": "markdown",
   "metadata": {},
   "source": [
    "## 广播"
   ]
  },
  {
   "attachments": {},
   "cell_type": "markdown",
   "metadata": {},
   "source": [
    "# 索引indexing 与 切片slicing"
   ]
  },
  {
   "attachments": {},
   "cell_type": "markdown",
   "metadata": {},
   "source": [
    "## 主线实例第四步 交叉熵计算"
   ]
  },
  {
   "cell_type": "code",
   "execution_count": null,
   "metadata": {},
   "outputs": [],
   "source": []
  },
  {
   "attachments": {},
   "cell_type": "markdown",
   "metadata": {},
   "source": [
    "# 其他\n",
    "\n",
    "## split 划分数组\n",
    "\n",
    "> numpy.split(ary, indices_or_sections, axis=0)  \n",
    "> args:    indices_or_sections: int or 1-D array"
   ]
  },
  {
   "cell_type": "code",
   "execution_count": null,
   "metadata": {},
   "outputs": [
    {
     "data": {
      "text/plain": [
       "[array([6]),\n",
       " array([3, 7]),\n",
       " array([4, 6, 9]),\n",
       " array([2, 6, 7]),\n",
       " array([4]),\n",
       " array([3, 7])]"
      ]
     },
     "metadata": {},
     "output_type": "display_data"
    }
   ],
   "source": [
    "a = np.array([6, 3, 7, 4, 6, 9, 2, 6, 7, 4, 3, 7])\n",
    "idx = np.array([ 1,  3,  6,  9, 10])\n",
    "np.split(a, idx) # 按元素位置进行分段\n"
   ]
  },
  {
   "cell_type": "code",
   "execution_count": null,
   "metadata": {},
   "outputs": [
    {
     "data": {
      "text/plain": [
       "[array([6, 3, 7, 4, 6, 9]), array([2, 6, 7, 4, 3, 7])]"
      ]
     },
     "metadata": {},
     "output_type": "display_data"
    }
   ],
   "source": [
    "np.split(a, 2) # 按数组个数进行分段"
   ]
  },
  {
   "cell_type": "code",
   "execution_count": null,
   "metadata": {},
   "outputs": [],
   "source": []
  },
  {
   "cell_type": "markdown",
   "metadata": {},
   "source": [
    "# 结束语\n",
    "\n",
    "NumPy 作为 数值计算 的扩展库， 我一时只能想到 深度学习的例子， 肯定不够全面\n",
    "\n",
    "以后能用到、想到时， 再更新——大概不会了。\n",
    "\n",
    "更复杂的 数值积分、 傅里叶变换， scipy的各种函数，  如果熟悉经典方法的应用场景 肯定能很容易地上手API接口。 单独的、又很熟悉的三五个函数名字 搜一次， 差不多就能记住了。\n",
    "\n",
    "## 时间花费\n",
    "\n",
    "PPT制作： 在别人PPT基础上， 不干活2、3天， 磨蹭2、3天，真开始改写又是2天。\n",
    "\n",
    "notebook制作， 也花了不少时间， 1、2天吧——下回计时——如果有下回的话（PyTorch)。"
   ]
  }
 ],
 "metadata": {
  "kernelspec": {
   "display_name": "base",
   "language": "python",
   "name": "python3"
  },
  "language_info": {
   "codemirror_mode": {
    "name": "ipython",
    "version": 3
   },
   "file_extension": ".py",
   "mimetype": "text/x-python",
   "name": "python",
   "nbconvert_exporter": "python",
   "pygments_lexer": "ipython3",
   "version": "3.8.8"
  },
  "orig_nbformat": 4
 },
 "nbformat": 4,
 "nbformat_minor": 2
}

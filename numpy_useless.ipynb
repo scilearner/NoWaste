{
 "cells": [
  {
   "attachments": {},
   "cell_type": "markdown",
   "metadata": {},
   "source": [
    "# NumPy 用什么用？\n",
    "\n",
    "大数据MapReduce(Hadoop等), GPU编程(CuPy, PyTorch, Tensorflow, 百度的PaddlePaddle, 华为的MindSpore, 旷视的忘了), 花钱的Matlab\n",
    "\n",
    "知名的Python科学计算/数值计算扩展库， numpy,scipy,matplotlib---pandas算数据分析，scikit-learn是机器学习库。\n",
    "\n",
    "4月份 试讲了一次， 半个小时重头戏都没讲到， 但幻灯片做都做了（改都改了）， 不如完成一下。\n",
    "\n"
   ]
  },
  {
   "attachments": {},
   "cell_type": "markdown",
   "metadata": {},
   "source": [
    "幻灯片改动自 黄海广​ 教授 中国海洋大学，  https://zhuanlan.zhihu.com/p/391261981\n",
    "\n",
    "没有向他问授权， 但我也不打算直接讲PPT\n",
    "\n",
    "这是哪？ 这是 jupyter notebook， 还讲啥PPT啊。"
   ]
  },
  {
   "attachments": {},
   "cell_type": "markdown",
   "metadata": {},
   "source": [
    "\n",
    "### 整体形式\n",
    "\n",
    "当然不是全部留空， 比如练习时， 安装命令还要现打？ 当然不浪费这时间啦。\n",
    "\n",
    "1份 完整版 notebook --- 我虽然说过很多次要脱稿， 但, 咳， 理想是美好的， 现实再说吧\n",
    "\n",
    "1份 练习版 notebook\n",
    "\n",
    "考虑到视频长度， 肯定分段"
   ]
  },
  {
   "attachments": {},
   "cell_type": "markdown",
   "metadata": {},
   "source": [
    "## 题外话\n",
    "\n",
    "学习没那么容易（但也不一定“难于上青天”）\n",
    "\n",
    "用 斯科特•扬 《如何高效学习》（Learn More, Study Less!）里 说的 （我也不查原文了）  知识点之间尽可能多建立联结， 有利于学习和掌握 —— 也许在纯教育学里 这完全不是什么新颖的观点， 但人家的事迹很有吸引力。\n",
    "\n",
    "那 NumPy 这种 一般教学模式是什么样的呢？ \n",
    "\n",
    "1. 挑一些常用函数 \n",
    "2. 逐个介绍， 并给一两个例子\n",
    "\n",
    "由于数值计算， 例子全是数值， 建立的联结就是比较脆弱、孤立的。\n",
    "\n",
    "也就是说， 对零基础入门来说， 枯燥了点、理解有限， 而有基础的可能只是想查个别情景下的使用\n",
    "\n",
    "\n",
    "我希望 我这个能更强调具体使用场景（一两个）， 并且以 jupyter notebook的形式， 也更有利于 查询检索——虽然我的表达能力 可能影响会影响检索质量和效率。\n",
    "\n",
    "所以， 我尝试以一个主线来串联， 建立多一点的联结\n",
    "\n",
    "1. 使用场景（不一定有）\n",
    "2. 失败场景（不一定有）\n",
    "3. 代码例子\n",
    "4. 相关函数的对比\n",
    "\n",
    "也许好一点， 大概好得不多。"
   ]
  },
  {
   "cell_type": "markdown",
   "metadata": {},
   "source": [
    "# 安装"
   ]
  },
  {
   "cell_type": "code",
   "execution_count": 2,
   "metadata": {},
   "outputs": [
    {
     "name": "stdout",
     "output_type": "stream",
     "text": [
      "Looking in indexes: http://mirrors.aliyun.com/pypi/simple/\n",
      "Requirement already satisfied: ipython in d:\\software\\anaconda3\\lib\\site-packages (7.22.0)\n",
      "Requirement already satisfied: jupyterlab in d:\\software\\anaconda3\\lib\\site-packages (3.0.14)\n",
      "Requirement already satisfied: jupyter in d:\\software\\anaconda3\\lib\\site-packages (1.0.0)\n",
      "Requirement already satisfied: notebook in d:\\software\\anaconda3\\lib\\site-packages (6.3.0)\n",
      "Requirement already satisfied: setuptools>=18.5 in d:\\software\\anaconda3\\lib\\site-packages (from ipython) (52.0.0.post20210125)\n",
      "Requirement already satisfied: pygments in d:\\software\\anaconda3\\lib\\site-packages (from ipython) (2.8.1)\n",
      "Requirement already satisfied: pickleshare in d:\\software\\anaconda3\\lib\\site-packages (from ipython) (0.7.5)\n",
      "Requirement already satisfied: backcall in d:\\software\\anaconda3\\lib\\site-packages (from ipython) (0.2.0)\n",
      "Requirement already satisfied: colorama in d:\\software\\anaconda3\\lib\\site-packages (from ipython) (0.4.4)\n",
      "Requirement already satisfied: decorator in d:\\software\\anaconda3\\lib\\site-packages (from ipython) (5.0.6)\n",
      "Requirement already satisfied: traitlets>=4.2 in d:\\software\\anaconda3\\lib\\site-packages (from ipython) (5.0.5)\n",
      "Requirement already satisfied: prompt-toolkit!=3.0.0,!=3.0.1,<3.1.0,>=2.0.0 in d:\\software\\anaconda3\\lib\\site-packages (from ipython) (3.0.17)\n",
      "Requirement already satisfied: jedi>=0.16 in d:\\software\\anaconda3\\lib\\site-packages (from ipython) (0.17.2)\n",
      "Requirement already satisfied: parso<0.8.0,>=0.7.0 in d:\\software\\anaconda3\\lib\\site-packages (from jedi>=0.16->ipython) (0.7.0)\n",
      "Requirement already satisfied: wcwidth in d:\\software\\anaconda3\\lib\\site-packages (from prompt-toolkit!=3.0.0,!=3.0.1,<3.1.0,>=2.0.0->ipython) (0.2.5)\n",
      "Requirement already satisfied: ipython-genutils in d:\\software\\anaconda3\\lib\\site-packages (from traitlets>=4.2->ipython) (0.2.0)\n",
      "Requirement already satisfied: ipywidgets in d:\\software\\anaconda3\\lib\\site-packages (from jupyter) (7.6.3)\n",
      "Requirement already satisfied: nbconvert in d:\\software\\anaconda3\\lib\\site-packages (from jupyter) (6.0.7)\n",
      "Requirement already satisfied: jupyter-console in d:\\software\\anaconda3\\lib\\site-packages (from jupyter) (6.4.0)\n",
      "Requirement already satisfied: qtconsole in d:\\software\\anaconda3\\lib\\site-packages (from jupyter) (5.0.3)\n",
      "Requirement already satisfied: ipykernel in d:\\software\\anaconda3\\lib\\site-packages (from jupyter) (5.3.4)\n",
      "Requirement already satisfied: jupyter-core in d:\\software\\anaconda3\\lib\\site-packages (from jupyterlab) (4.7.1)\n",
      "Requirement already satisfied: tornado>=6.1.0 in d:\\software\\anaconda3\\lib\\site-packages (from jupyterlab) (6.1)\n",
      "Requirement already satisfied: nbclassic~=0.2 in d:\\software\\anaconda3\\lib\\site-packages (from jupyterlab) (0.2.6)\n",
      "Requirement already satisfied: jupyterlab-server~=2.3 in d:\\software\\anaconda3\\lib\\site-packages (from jupyterlab) (2.4.0)\n",
      "Requirement already satisfied: jupyter-server~=1.4 in d:\\software\\anaconda3\\lib\\site-packages (from jupyterlab) (1.4.1)\n",
      "Requirement already satisfied: packaging in d:\\software\\anaconda3\\lib\\site-packages (from jupyterlab) (20.9)\n",
      "Requirement already satisfied: jinja2>=2.10 in d:\\software\\anaconda3\\lib\\site-packages (from jupyterlab) (2.11.3)\n",
      "Requirement already satisfied: jupyter-packaging~=0.7 in d:\\software\\anaconda3\\lib\\site-packages (from jupyterlab) (0.7.12)\n",
      "Requirement already satisfied: MarkupSafe>=0.23 in d:\\software\\anaconda3\\lib\\site-packages (from jinja2>=2.10->jupyterlab) (1.1.1)\n",
      "Requirement already satisfied: terminado>=0.8.3 in d:\\software\\anaconda3\\lib\\site-packages (from jupyter-server~=1.4->jupyterlab) (0.9.4)\n",
      "Requirement already satisfied: pywin32>=1.0 in d:\\software\\anaconda3\\lib\\site-packages (from jupyter-server~=1.4->jupyterlab) (227)\n",
      "Requirement already satisfied: prometheus-client in d:\\software\\anaconda3\\lib\\site-packages (from jupyter-server~=1.4->jupyterlab) (0.10.1)\n",
      "Requirement already satisfied: anyio>=2.0.2 in d:\\software\\anaconda3\\lib\\site-packages (from jupyter-server~=1.4->jupyterlab) (2.2.0)\n",
      "Requirement already satisfied: pyzmq>=17 in d:\\software\\anaconda3\\lib\\site-packages (from jupyter-server~=1.4->jupyterlab) (20.0.0)\n",
      "Requirement already satisfied: jupyter-client>=6.1.1 in d:\\software\\anaconda3\\lib\\site-packages (from jupyter-server~=1.4->jupyterlab) (6.1.12)\n",
      "Requirement already satisfied: nbformat in d:\\software\\anaconda3\\lib\\site-packages (from jupyter-server~=1.4->jupyterlab) (5.1.3)\n",
      "Requirement already satisfied: Send2Trash in d:\\software\\anaconda3\\lib\\site-packages (from jupyter-server~=1.4->jupyterlab) (1.5.0)\n",
      "Requirement already satisfied: sniffio>=1.1 in d:\\software\\anaconda3\\lib\\site-packages (from anyio>=2.0.2->jupyter-server~=1.4->jupyterlab) (1.2.0)\n",
      "Requirement already satisfied: idna>=2.8 in d:\\software\\anaconda3\\lib\\site-packages (from anyio>=2.0.2->jupyter-server~=1.4->jupyterlab) (2.10)\n",
      "Requirement already satisfied: python-dateutil>=2.1 in d:\\software\\anaconda3\\lib\\site-packages (from jupyter-client>=6.1.1->jupyter-server~=1.4->jupyterlab) (2.8.1)\n",
      "Requirement already satisfied: babel in d:\\software\\anaconda3\\lib\\site-packages (from jupyterlab-server~=2.3->jupyterlab) (2.9.0)\n",
      "Requirement already satisfied: json5 in d:\\software\\anaconda3\\lib\\site-packages (from jupyterlab-server~=2.3->jupyterlab) (0.9.5)\n",
      "Requirement already satisfied: jsonschema>=3.0.1 in d:\\software\\anaconda3\\lib\\site-packages (from jupyterlab-server~=2.3->jupyterlab) (3.2.0)\n",
      "Requirement already satisfied: requests in d:\\software\\anaconda3\\lib\\site-packages (from jupyterlab-server~=2.3->jupyterlab) (2.25.1)\n",
      "Requirement already satisfied: attrs>=17.4.0 in d:\\software\\anaconda3\\lib\\site-packages (from jsonschema>=3.0.1->jupyterlab-server~=2.3->jupyterlab) (20.3.0)\n",
      "Requirement already satisfied: pyrsistent>=0.14.0 in d:\\software\\anaconda3\\lib\\site-packages (from jsonschema>=3.0.1->jupyterlab-server~=2.3->jupyterlab) (0.17.3)\n",
      "Requirement already satisfied: six>=1.11.0 in d:\\software\\anaconda3\\lib\\site-packages (from jsonschema>=3.0.1->jupyterlab-server~=2.3->jupyterlab) (1.15.0)\n",
      "Requirement already satisfied: argon2-cffi in d:\\software\\anaconda3\\lib\\site-packages (from notebook) (20.1.0)\n",
      "Requirement already satisfied: pywinpty>=0.5 in d:\\software\\anaconda3\\lib\\site-packages (from terminado>=0.8.3->jupyter-server~=1.4->jupyterlab) (0.5.7)\n",
      "Requirement already satisfied: cffi>=1.0.0 in d:\\software\\anaconda3\\lib\\site-packages (from argon2-cffi->notebook) (1.14.5)\n",
      "Requirement already satisfied: pycparser in d:\\software\\anaconda3\\lib\\site-packages (from cffi>=1.0.0->argon2-cffi->notebook) (2.20)\n",
      "Requirement already satisfied: pytz>=2015.7 in d:\\software\\anaconda3\\lib\\site-packages (from babel->jupyterlab-server~=2.3->jupyterlab) (2021.1)\n",
      "Requirement already satisfied: widgetsnbextension~=3.5.0 in d:\\software\\anaconda3\\lib\\site-packages (from ipywidgets->jupyter) (3.5.1)\n",
      "Requirement already satisfied: jupyterlab-widgets>=1.0.0 in d:\\software\\anaconda3\\lib\\site-packages (from ipywidgets->jupyter) (1.0.0)\n",
      "Requirement already satisfied: pandocfilters>=1.4.1 in d:\\software\\anaconda3\\lib\\site-packages (from nbconvert->jupyter) (1.4.3)\n",
      "Requirement already satisfied: testpath in d:\\software\\anaconda3\\lib\\site-packages (from nbconvert->jupyter) (0.4.4)\n",
      "Requirement already satisfied: bleach in d:\\software\\anaconda3\\lib\\site-packages (from nbconvert->jupyter) (3.3.0)\n",
      "Requirement already satisfied: defusedxml in d:\\software\\anaconda3\\lib\\site-packages (from nbconvert->jupyter) (0.7.1)\n",
      "Requirement already satisfied: nbclient<0.6.0,>=0.5.0 in d:\\software\\anaconda3\\lib\\site-packages (from nbconvert->jupyter) (0.5.3)\n",
      "Requirement already satisfied: entrypoints>=0.2.2 in d:\\software\\anaconda3\\lib\\site-packages (from nbconvert->jupyter) (0.3)\n",
      "Requirement already satisfied: jupyterlab-pygments in d:\\software\\anaconda3\\lib\\site-packages (from nbconvert->jupyter) (0.1.2)\n",
      "Requirement already satisfied: mistune<2,>=0.8.1 in d:\\software\\anaconda3\\lib\\site-packages (from nbconvert->jupyter) (0.8.4)\n",
      "Requirement already satisfied: nest-asyncio in d:\\software\\anaconda3\\lib\\site-packages (from nbclient<0.6.0,>=0.5.0->nbconvert->jupyter) (1.5.1)\n",
      "Requirement already satisfied: async-generator in d:\\software\\anaconda3\\lib\\site-packages (from nbclient<0.6.0,>=0.5.0->nbconvert->jupyter) (1.10)\n",
      "Requirement already satisfied: webencodings in d:\\software\\anaconda3\\lib\\site-packages (from bleach->nbconvert->jupyter) (0.5.1)\n",
      "Requirement already satisfied: pyparsing>=2.0.2 in d:\\software\\anaconda3\\lib\\site-packages (from packaging->jupyterlab) (2.4.7)\n",
      "Requirement already satisfied: qtpy in d:\\software\\anaconda3\\lib\\site-packages (from qtconsole->jupyter) (1.9.0)\n",
      "Requirement already satisfied: urllib3<1.27,>=1.21.1 in d:\\software\\anaconda3\\lib\\site-packages (from requests->jupyterlab-server~=2.3->jupyterlab) (1.26.4)\n",
      "Requirement already satisfied: certifi>=2017.4.17 in d:\\software\\anaconda3\\lib\\site-packages (from requests->jupyterlab-server~=2.3->jupyterlab) (2020.12.5)\n",
      "Requirement already satisfied: chardet<5,>=3.0.2 in d:\\software\\anaconda3\\lib\\site-packages (from requests->jupyterlab-server~=2.3->jupyterlab) (4.0.0)\n"
     ]
    },
    {
     "name": "stderr",
     "output_type": "stream",
     "text": [
      "WARNING: The repository located at mirrors.aliyun.com is not a trusted or secure host and is being ignored. If this repository is available via HTTPS we recommend you use HTTPS instead, otherwise you may silence this warning and allow it anyway with '--trusted-host mirrors.aliyun.com'.\n"
     ]
    },
    {
     "name": "stdout",
     "output_type": "stream",
     "text": [
      "Looking in indexes: http://mirrors.aliyun.com/pypi/simple/\n",
      "Requirement already satisfied: numpy in d:\\software\\anaconda3\\lib\\site-packages (1.20.1)\n",
      "Requirement already satisfied: scipy in d:\\software\\anaconda3\\lib\\site-packages (1.6.2)\n",
      "Requirement already satisfied: matplotlib in d:\\software\\anaconda3\\lib\\site-packages (3.3.4)\n",
      "Requirement already satisfied: pandas in d:\\software\\anaconda3\\lib\\site-packages (1.2.4)\n",
      "Requirement already satisfied: torch in d:\\software\\anaconda3\\lib\\site-packages (1.8.0)\n",
      "Requirement already satisfied: python-dateutil>=2.1 in d:\\software\\anaconda3\\lib\\site-packages (from matplotlib) (2.8.1)\n",
      "Requirement already satisfied: pillow>=6.2.0 in d:\\software\\anaconda3\\lib\\site-packages (from matplotlib) (8.2.0)\n",
      "Requirement already satisfied: kiwisolver>=1.0.1 in d:\\software\\anaconda3\\lib\\site-packages (from matplotlib) (1.3.1)\n",
      "Requirement already satisfied: pyparsing!=2.0.4,!=2.1.2,!=2.1.6,>=2.0.3 in d:\\software\\anaconda3\\lib\\site-packages (from matplotlib) (2.4.7)\n",
      "Requirement already satisfied: cycler>=0.10 in d:\\software\\anaconda3\\lib\\site-packages (from matplotlib) (0.10.0)\n",
      "Requirement already satisfied: six in d:\\software\\anaconda3\\lib\\site-packages (from cycler>=0.10->matplotlib) (1.15.0)\n",
      "Requirement already satisfied: pytz>=2017.3 in d:\\software\\anaconda3\\lib\\site-packages (from pandas) (2021.1)\n",
      "Requirement already satisfied: typing-extensions in d:\\software\\anaconda3\\lib\\site-packages (from torch) (3.7.4.3)\n"
     ]
    },
    {
     "name": "stderr",
     "output_type": "stream",
     "text": [
      "WARNING: The repository located at mirrors.aliyun.com is not a trusted or secure host and is being ignored. If this repository is available via HTTPS we recommend you use HTTPS instead, otherwise you may silence this warning and allow it anyway with '--trusted-host mirrors.aliyun.com'.\n"
     ]
    }
   ],
   "source": [
    "!pip install ipython jupyterlab jupyter notebook \n",
    "!pip install numpy scipy matplotlib pandas torch"
   ]
  },
  {
   "cell_type": "code",
   "execution_count": 9,
   "metadata": {},
   "outputs": [],
   "source": [
    "import numpy as np\n",
    "import time\n",
    "\n",
    "np.set_printoptions(precision=3)"
   ]
  },
  {
   "attachments": {},
   "cell_type": "markdown",
   "metadata": {},
   "source": [
    "## 预备\n",
    "\n",
    "- Python          https://www.python.org/ \n",
    "- Miniconda https://conda.io/miniconda.html  \n",
    "- 推荐这个 **Anaconda** www.anaconda.com/ \n",
    "\n",
    "**软件**\n",
    "\n",
    "- VSCode            https://code.visualstudio.com/ \n",
    "- PyCharm Pro    https://www.jetbrains.com/pycharm/download\n",
    "\n",
    "\n",
    "VS Code 带 jupytext, 应该好于 jupyterlab > jupyter notebook\n",
    "\n",
    "比如目录功能， jupyter notebook 需要安装插件， 也挺麻烦的\n",
    "\n",
    "另外， 我喜欢用 vim 的快捷键\n",
    "\n",
    "另外， 除非电脑太卡了， 不然 NumPy的学习 不至于要用 Google Colab？\n",
    "\n",
    "**虚拟环境**\n",
    "\n",
    "创建虚拟环境 Virtual Environment\n",
    "\n",
    "\n",
    "> virtualenv venv   \n",
    "> source venv/bin/activate \n",
    "\n",
    "还是更推荐用 anaconda 创建——尤其是要安装 tensorflow-gpu时， 你需要找相应版本的 cudatoolkit和cudnn，\n",
    "\n",
    "> conda create -n myenv python=3.9  \n",
    "> conda activate myenv\n"
   ]
  },
  {
   "attachments": {},
   "cell_type": "markdown",
   "metadata": {},
   "source": [
    "# NumPy 是什么\n",
    "\n",
    "NumPy(Numerical Python)是Python的一种开源的数值计算扩展库。 提供了两种基本对象：\n",
    "\n",
    "1. ndarray：全称（n-dimensional array object）是储存单一数据类型的多维数组。\n",
    "2. ufunc：全称（universal function object）它是一种能够对数组进行处理的函数。\n"
   ]
  },
  {
   "attachments": {},
   "cell_type": "markdown",
   "metadata": {},
   "source": [
    "## 为什么要用 NumPy\n",
    "\n",
    "跟原生Python的对比"
   ]
  },
  {
   "cell_type": "code",
   "execution_count": 11,
   "metadata": {},
   "outputs": [],
   "source": [
    "import numpy as np\n",
    "import time\n",
    "\n",
    "np.set_printoptions(precision=3)"
   ]
  },
  {
   "cell_type": "code",
   "execution_count": 6,
   "metadata": {},
   "outputs": [],
   "source": [
    "n = 100\n",
    "a1 = np.random.random(size = (100, 100))\n",
    "a2 = np.random.random((100, 100))\n",
    "a3 = np.zeros(shape = (100, 100))"
   ]
  },
  {
   "cell_type": "code",
   "execution_count": 7,
   "metadata": {},
   "outputs": [
    {
     "name": "stdout",
     "output_type": "stream",
     "text": [
      "0.887291431427002 second(s)\n"
     ]
    }
   ],
   "source": [
    "# 原生python\n",
    "# 偷懒了， 没用 list 列表\n",
    "\n",
    "start = time.time()\n",
    "\n",
    "for i in range(n):\n",
    "    for j in range(n):\n",
    "        for k in range(n):\n",
    "            a3[i][j] += a1[i][k] * a2[k][j]\n",
    "end = time.time()\n",
    "print(end - start, 'second(s)')"
   ]
  },
  {
   "cell_type": "code",
   "execution_count": 8,
   "metadata": {},
   "outputs": [
    {
     "name": "stdout",
     "output_type": "stream",
     "text": [
      "0.0911872386932373 second(s)\n"
     ]
    }
   ],
   "source": [
    "start = time.time()\n",
    "a3_np = np.dot(a1, a2)\n",
    "end = time.time()\n",
    "print(end - start, 'second(s)')"
   ]
  },
  {
   "cell_type": "code",
   "execution_count": 10,
   "metadata": {},
   "outputs": [
    {
     "data": {
      "text/plain": [
       "array([[ 0.000e+00,  3.553e-15,  0.000e+00, ...,  0.000e+00,  0.000e+00,\n",
       "         3.553e-15],\n",
       "       [ 0.000e+00,  0.000e+00,  3.553e-15, ...,  0.000e+00,  0.000e+00,\n",
       "         3.553e-15],\n",
       "       [ 0.000e+00, -3.553e-15,  0.000e+00, ...,  0.000e+00,  0.000e+00,\n",
       "         0.000e+00],\n",
       "       ...,\n",
       "       [ 0.000e+00,  0.000e+00,  0.000e+00, ..., -3.553e-15,  0.000e+00,\n",
       "         0.000e+00],\n",
       "       [ 0.000e+00,  0.000e+00, -3.553e-15, ..., -3.553e-15,  0.000e+00,\n",
       "        -3.553e-15],\n",
       "       [ 3.553e-15, -3.553e-15,  0.000e+00, ...,  0.000e+00,  0.000e+00,\n",
       "        -3.553e-15]])"
      ]
     },
     "execution_count": 10,
     "metadata": {},
     "output_type": "execute_result"
    }
   ],
   "source": [
    "a3_np - a3"
   ]
  },
  {
   "cell_type": "code",
   "execution_count": null,
   "metadata": {},
   "outputs": [],
   "source": []
  },
  {
   "attachments": {},
   "cell_type": "markdown",
   "metadata": {},
   "source": [
    "# 主线介绍\n",
    "\n",
    "本文使用的例子如下图， 是一个3路softmax 分类任务的流程\n",
    "\n",
    "![Softmax 3-分类](https://raw.githubusercontent.com/scilearner/NoWaste/master/image/3_class_demo.png)\n",
    "\n",
    "为了简单， 对数据做一个简单假设， $X \\in R^{n \\times d}, z \\in R^{d \\times K}$, 其中 $n=300, d=5, K=3$,  大概如图\n",
    "\n",
    "![Softmax 3-分类](https://raw.githubusercontent.com/scilearner/NoWaste/master/image/3_gaussian.png)"
   ]
  },
  {
   "cell_type": "code",
   "execution_count": null,
   "metadata": {},
   "outputs": [],
   "source": [
    "\n"
   ]
  }
 ],
 "metadata": {
  "kernelspec": {
   "display_name": "base",
   "language": "python",
   "name": "python3"
  },
  "language_info": {
   "codemirror_mode": {
    "name": "ipython",
    "version": 3
   },
   "file_extension": ".py",
   "mimetype": "text/x-python",
   "name": "python",
   "nbconvert_exporter": "python",
   "pygments_lexer": "ipython3",
   "version": "3.8.8"
  },
  "orig_nbformat": 4
 },
 "nbformat": 4,
 "nbformat_minor": 2
}

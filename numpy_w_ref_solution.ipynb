{
 "cells": [
  {
   "cell_type": "markdown",
   "metadata": {},
   "source": [
    "本段所在链接  https://github.com/scilearner/NoWaste  不要浪费\n",
    "\n",
    "[Binder在线运行](http://mybinder.org/repo/scilearner/NoWaste/numpy_w_ref_solution.ipynb) 但我没用过 binder\n",
    "\n",
    "<a href=\"https://colab.research.google.com/github/scilearner/NoWaste/blob/master/numpy_w_ref_solution.ipynb\" target=\"_parent\"><img src=\"https://colab.research.google.com/assets/colab-badge.svg\" alt=\"Open In Colab\"/></a>\n",
    "\n",
    "推荐 https://github.com/rougier/numpy-100  感觉有点难了， 锻炼使用技巧\n"
   ]
  },
  {
   "cell_type": "markdown",
   "metadata": {},
   "source": [
    "# NumPy 用什么用？\n",
    "\n",
    "大数据MapReduce(Hadoop等), GPU编程(CuPy, PyTorch, Tensorflow, 百度的PaddlePaddle, 华为的MindSpore, 旷视的忘了), 花钱的Matlab\n",
    "\n",
    "知名的Python科学计算/数值计算扩展库， numpy,scipy,matplotlib---pandas算数据分析，scikit-learn是机器学习库。\n",
    "\n",
    "4月份 试讲了一次， 半个小时重头戏都没讲到， 但幻灯片做都做了（改都改了）， 不如完成一下。\n",
    "\n"
   ]
  },
  {
   "cell_type": "markdown",
   "metadata": {},
   "source": [
    "幻灯片改动自 黄海广​ 教授 中国海洋大学，  https://zhuanlan.zhihu.com/p/391261981\n",
    "\n",
    "没有向他问授权， 但我也不打算直接讲PPT\n",
    "\n",
    "这是哪？ 这是 jupyter notebook， 还讲啥PPT啊。"
   ]
  },
  {
   "cell_type": "markdown",
   "metadata": {},
   "source": [
    "\n",
    "### 整体形式\n",
    "\n",
    "当然不是全部留空， 比如练习时， 安装命令还要现打？ 当然不浪费这时间啦。\n",
    "\n",
    "1份 完整版 notebook --- 我虽然说过很多次要脱稿， 但, 咳， 理想是美好的， 现实再说吧\n",
    "\n",
    "1份 练习版 notebook\n",
    "\n",
    "考虑到视频长度， 肯定分段"
   ]
  },
  {
   "cell_type": "markdown",
   "metadata": {},
   "source": [
    "## 题外话\n",
    "\n",
    "学习没那么容易（但也不一定“难于上青天”）\n",
    "\n",
    "用 斯科特•扬 《如何高效学习》（Learn More, Study Less!）里 说的 （我也不查原文了）  知识点之间尽可能多建立联结， 有利于学习和掌握 —— 也许在纯教育学里 这完全不是什么新颖的观点， 但人家的事迹很有吸引力。\n",
    "\n",
    "那 NumPy 这种 一般教学模式是什么样的呢？ \n",
    "\n",
    "1. 挑一些常用函数 \n",
    "2. 逐个介绍， 并给一两个例子\n",
    "\n",
    "由于数值计算， 例子全是数值， 建立的联结就是比较脆弱、孤立的。\n",
    "\n",
    "也就是说， 对零基础入门来说， 枯燥了点、理解有限， 而有基础的可能只是想查个别情景下的使用\n",
    "\n",
    "\n",
    "我希望 我这个能更强调具体使用场景（一两个）， 并且以 jupyter notebook的形式， 也更有利于 查询检索——虽然我的表达能力 可能影响会影响检索质量和效率。\n",
    "\n",
    "所以， 我尝试以一个主线来串联， 建立多一点的联结\n",
    "\n",
    "1. 使用场景（不一定有）\n",
    "2. 失败场景（不一定有）\n",
    "3. 代码例子\n",
    "4. 相关函数的对比\n",
    "\n",
    "也许好一点， 大概好得不多。"
   ]
  },
  {
   "cell_type": "markdown",
   "metadata": {},
   "source": [
    "## 预备\n",
    "\n",
    "- Python          https://www.python.org/ \n",
    "- Miniconda https://conda.io/miniconda.html  \n",
    "- 推荐这个 **Anaconda** www.anaconda.com/ \n",
    "\n",
    "**软件**\n",
    "\n",
    "- VSCode            https://code.visualstudio.com/ \n",
    "- PyCharm Pro    https://www.jetbrains.com/pycharm/download\n",
    "\n",
    "\n",
    "VS Code 带 jupytext, 应该好于 jupyterlab > jupyter notebook\n",
    "\n",
    "比如目录功能， jupyter notebook 需要安装插件， 也挺麻烦的\n",
    "\n",
    "另外， 我喜欢用 vim 的快捷键\n",
    "\n",
    "另外， 除非电脑太卡了， 不然 NumPy的学习 不至于要用 Google Colab？\n",
    "\n",
    "**虚拟环境**\n",
    "\n",
    "创建虚拟环境 Virtual Environment\n",
    "\n",
    "\n",
    "> virtualenv venv   \n",
    "> source venv/bin/activate \n",
    "\n",
    "还是更推荐用 anaconda 创建——尤其是要安装 tensorflow-gpu时， 你需要找相应版本的 cudatoolkit和cudnn，\n",
    "\n",
    "> conda create -n myenv python=3.9  \n",
    "> conda activate myenv\n"
   ]
  },
  {
   "cell_type": "markdown",
   "metadata": {},
   "source": [
    "# 安装"
   ]
  },
  {
   "cell_type": "code",
   "execution_count": null,
   "metadata": {},
   "outputs": [
    {
     "name": "stdout",
     "output_type": "stream",
     "text": [
      "Looking in indexes: http://mirrors.aliyun.com/pypi/simple/\n",
      "Requirement already satisfied: ipython in d:\\software\\anaconda3\\lib\\site-packages (7.22.0)\n",
      "Requirement already satisfied: jupyterlab in d:\\software\\anaconda3\\lib\\site-packages (3.0.14)\n",
      "Requirement already satisfied: jupyter in d:\\software\\anaconda3\\lib\\site-packages (1.0.0)\n",
      "Requirement already satisfied: notebook in d:\\software\\anaconda3\\lib\\site-packages (6.3.0)\n",
      "Requirement already satisfied: setuptools>=18.5 in d:\\software\\anaconda3\\lib\\site-packages (from ipython) (52.0.0.post20210125)\n",
      "Requirement already satisfied: pygments in d:\\software\\anaconda3\\lib\\site-packages (from ipython) (2.8.1)\n",
      "Requirement already satisfied: pickleshare in d:\\software\\anaconda3\\lib\\site-packages (from ipython) (0.7.5)\n",
      "Requirement already satisfied: backcall in d:\\software\\anaconda3\\lib\\site-packages (from ipython) (0.2.0)\n",
      "Requirement already satisfied: colorama in d:\\software\\anaconda3\\lib\\site-packages (from ipython) (0.4.4)\n",
      "Requirement already satisfied: decorator in d:\\software\\anaconda3\\lib\\site-packages (from ipython) (5.0.6)\n",
      "Requirement already satisfied: traitlets>=4.2 in d:\\software\\anaconda3\\lib\\site-packages (from ipython) (5.0.5)\n",
      "Requirement already satisfied: prompt-toolkit!=3.0.0,!=3.0.1,<3.1.0,>=2.0.0 in d:\\software\\anaconda3\\lib\\site-packages (from ipython) (3.0.17)\n",
      "Requirement already satisfied: jedi>=0.16 in d:\\software\\anaconda3\\lib\\site-packages (from ipython) (0.17.2)\n",
      "Requirement already satisfied: parso<0.8.0,>=0.7.0 in d:\\software\\anaconda3\\lib\\site-packages (from jedi>=0.16->ipython) (0.7.0)\n",
      "Requirement already satisfied: wcwidth in d:\\software\\anaconda3\\lib\\site-packages (from prompt-toolkit!=3.0.0,!=3.0.1,<3.1.0,>=2.0.0->ipython) (0.2.5)\n",
      "Requirement already satisfied: ipython-genutils in d:\\software\\anaconda3\\lib\\site-packages (from traitlets>=4.2->ipython) (0.2.0)\n",
      "Requirement already satisfied: ipywidgets in d:\\software\\anaconda3\\lib\\site-packages (from jupyter) (7.6.3)\n",
      "Requirement already satisfied: nbconvert in d:\\software\\anaconda3\\lib\\site-packages (from jupyter) (6.0.7)\n",
      "Requirement already satisfied: jupyter-console in d:\\software\\anaconda3\\lib\\site-packages (from jupyter) (6.4.0)\n",
      "Requirement already satisfied: qtconsole in d:\\software\\anaconda3\\lib\\site-packages (from jupyter) (5.0.3)\n",
      "Requirement already satisfied: ipykernel in d:\\software\\anaconda3\\lib\\site-packages (from jupyter) (5.3.4)\n",
      "Requirement already satisfied: jupyter-core in d:\\software\\anaconda3\\lib\\site-packages (from jupyterlab) (4.7.1)\n",
      "Requirement already satisfied: tornado>=6.1.0 in d:\\software\\anaconda3\\lib\\site-packages (from jupyterlab) (6.1)\n",
      "Requirement already satisfied: nbclassic~=0.2 in d:\\software\\anaconda3\\lib\\site-packages (from jupyterlab) (0.2.6)\n",
      "Requirement already satisfied: jupyterlab-server~=2.3 in d:\\software\\anaconda3\\lib\\site-packages (from jupyterlab) (2.4.0)\n",
      "Requirement already satisfied: jupyter-server~=1.4 in d:\\software\\anaconda3\\lib\\site-packages (from jupyterlab) (1.4.1)\n",
      "Requirement already satisfied: packaging in d:\\software\\anaconda3\\lib\\site-packages (from jupyterlab) (20.9)\n",
      "Requirement already satisfied: jinja2>=2.10 in d:\\software\\anaconda3\\lib\\site-packages (from jupyterlab) (2.11.3)\n",
      "Requirement already satisfied: jupyter-packaging~=0.7 in d:\\software\\anaconda3\\lib\\site-packages (from jupyterlab) (0.7.12)\n",
      "Requirement already satisfied: MarkupSafe>=0.23 in d:\\software\\anaconda3\\lib\\site-packages (from jinja2>=2.10->jupyterlab) (1.1.1)\n",
      "Requirement already satisfied: terminado>=0.8.3 in d:\\software\\anaconda3\\lib\\site-packages (from jupyter-server~=1.4->jupyterlab) (0.9.4)\n",
      "Requirement already satisfied: pywin32>=1.0 in d:\\software\\anaconda3\\lib\\site-packages (from jupyter-server~=1.4->jupyterlab) (227)\n",
      "Requirement already satisfied: prometheus-client in d:\\software\\anaconda3\\lib\\site-packages (from jupyter-server~=1.4->jupyterlab) (0.10.1)\n",
      "Requirement already satisfied: anyio>=2.0.2 in d:\\software\\anaconda3\\lib\\site-packages (from jupyter-server~=1.4->jupyterlab) (2.2.0)\n",
      "Requirement already satisfied: pyzmq>=17 in d:\\software\\anaconda3\\lib\\site-packages (from jupyter-server~=1.4->jupyterlab) (20.0.0)\n",
      "Requirement already satisfied: jupyter-client>=6.1.1 in d:\\software\\anaconda3\\lib\\site-packages (from jupyter-server~=1.4->jupyterlab) (6.1.12)\n",
      "Requirement already satisfied: nbformat in d:\\software\\anaconda3\\lib\\site-packages (from jupyter-server~=1.4->jupyterlab) (5.1.3)\n",
      "Requirement already satisfied: Send2Trash in d:\\software\\anaconda3\\lib\\site-packages (from jupyter-server~=1.4->jupyterlab) (1.5.0)\n",
      "Requirement already satisfied: sniffio>=1.1 in d:\\software\\anaconda3\\lib\\site-packages (from anyio>=2.0.2->jupyter-server~=1.4->jupyterlab) (1.2.0)\n",
      "Requirement already satisfied: idna>=2.8 in d:\\software\\anaconda3\\lib\\site-packages (from anyio>=2.0.2->jupyter-server~=1.4->jupyterlab) (2.10)\n",
      "Requirement already satisfied: python-dateutil>=2.1 in d:\\software\\anaconda3\\lib\\site-packages (from jupyter-client>=6.1.1->jupyter-server~=1.4->jupyterlab) (2.8.1)\n",
      "Requirement already satisfied: babel in d:\\software\\anaconda3\\lib\\site-packages (from jupyterlab-server~=2.3->jupyterlab) (2.9.0)\n",
      "Requirement already satisfied: json5 in d:\\software\\anaconda3\\lib\\site-packages (from jupyterlab-server~=2.3->jupyterlab) (0.9.5)\n",
      "Requirement already satisfied: jsonschema>=3.0.1 in d:\\software\\anaconda3\\lib\\site-packages (from jupyterlab-server~=2.3->jupyterlab) (3.2.0)\n",
      "Requirement already satisfied: requests in d:\\software\\anaconda3\\lib\\site-packages (from jupyterlab-server~=2.3->jupyterlab) (2.25.1)\n",
      "Requirement already satisfied: attrs>=17.4.0 in d:\\software\\anaconda3\\lib\\site-packages (from jsonschema>=3.0.1->jupyterlab-server~=2.3->jupyterlab) (20.3.0)\n",
      "Requirement already satisfied: pyrsistent>=0.14.0 in d:\\software\\anaconda3\\lib\\site-packages (from jsonschema>=3.0.1->jupyterlab-server~=2.3->jupyterlab) (0.17.3)\n",
      "Requirement already satisfied: six>=1.11.0 in d:\\software\\anaconda3\\lib\\site-packages (from jsonschema>=3.0.1->jupyterlab-server~=2.3->jupyterlab) (1.15.0)\n",
      "Requirement already satisfied: argon2-cffi in d:\\software\\anaconda3\\lib\\site-packages (from notebook) (20.1.0)\n",
      "Requirement already satisfied: pywinpty>=0.5 in d:\\software\\anaconda3\\lib\\site-packages (from terminado>=0.8.3->jupyter-server~=1.4->jupyterlab) (0.5.7)\n",
      "Requirement already satisfied: cffi>=1.0.0 in d:\\software\\anaconda3\\lib\\site-packages (from argon2-cffi->notebook) (1.14.5)\n",
      "Requirement already satisfied: pycparser in d:\\software\\anaconda3\\lib\\site-packages (from cffi>=1.0.0->argon2-cffi->notebook) (2.20)\n",
      "Requirement already satisfied: pytz>=2015.7 in d:\\software\\anaconda3\\lib\\site-packages (from babel->jupyterlab-server~=2.3->jupyterlab) (2021.1)\n",
      "Requirement already satisfied: widgetsnbextension~=3.5.0 in d:\\software\\anaconda3\\lib\\site-packages (from ipywidgets->jupyter) (3.5.1)\n",
      "Requirement already satisfied: jupyterlab-widgets>=1.0.0 in d:\\software\\anaconda3\\lib\\site-packages (from ipywidgets->jupyter) (1.0.0)\n",
      "Requirement already satisfied: pandocfilters>=1.4.1 in d:\\software\\anaconda3\\lib\\site-packages (from nbconvert->jupyter) (1.4.3)\n",
      "Requirement already satisfied: testpath in d:\\software\\anaconda3\\lib\\site-packages (from nbconvert->jupyter) (0.4.4)\n",
      "Requirement already satisfied: bleach in d:\\software\\anaconda3\\lib\\site-packages (from nbconvert->jupyter) (3.3.0)\n",
      "Requirement already satisfied: defusedxml in d:\\software\\anaconda3\\lib\\site-packages (from nbconvert->jupyter) (0.7.1)\n",
      "Requirement already satisfied: nbclient<0.6.0,>=0.5.0 in d:\\software\\anaconda3\\lib\\site-packages (from nbconvert->jupyter) (0.5.3)\n",
      "Requirement already satisfied: entrypoints>=0.2.2 in d:\\software\\anaconda3\\lib\\site-packages (from nbconvert->jupyter) (0.3)\n",
      "Requirement already satisfied: jupyterlab-pygments in d:\\software\\anaconda3\\lib\\site-packages (from nbconvert->jupyter) (0.1.2)\n",
      "Requirement already satisfied: mistune<2,>=0.8.1 in d:\\software\\anaconda3\\lib\\site-packages (from nbconvert->jupyter) (0.8.4)\n",
      "Requirement already satisfied: nest-asyncio in d:\\software\\anaconda3\\lib\\site-packages (from nbclient<0.6.0,>=0.5.0->nbconvert->jupyter) (1.5.1)\n",
      "Requirement already satisfied: async-generator in d:\\software\\anaconda3\\lib\\site-packages (from nbclient<0.6.0,>=0.5.0->nbconvert->jupyter) (1.10)\n",
      "Requirement already satisfied: webencodings in d:\\software\\anaconda3\\lib\\site-packages (from bleach->nbconvert->jupyter) (0.5.1)\n",
      "Requirement already satisfied: pyparsing>=2.0.2 in d:\\software\\anaconda3\\lib\\site-packages (from packaging->jupyterlab) (2.4.7)\n",
      "Requirement already satisfied: qtpy in d:\\software\\anaconda3\\lib\\site-packages (from qtconsole->jupyter) (1.9.0)\n",
      "Requirement already satisfied: urllib3<1.27,>=1.21.1 in d:\\software\\anaconda3\\lib\\site-packages (from requests->jupyterlab-server~=2.3->jupyterlab) (1.26.4)\n",
      "Requirement already satisfied: certifi>=2017.4.17 in d:\\software\\anaconda3\\lib\\site-packages (from requests->jupyterlab-server~=2.3->jupyterlab) (2020.12.5)\n",
      "Requirement already satisfied: chardet<5,>=3.0.2 in d:\\software\\anaconda3\\lib\\site-packages (from requests->jupyterlab-server~=2.3->jupyterlab) (4.0.0)\n"
     ]
    },
    {
     "name": "stderr",
     "output_type": "stream",
     "text": [
      "WARNING: The repository located at mirrors.aliyun.com is not a trusted or secure host and is being ignored. If this repository is available via HTTPS we recommend you use HTTPS instead, otherwise you may silence this warning and allow it anyway with '--trusted-host mirrors.aliyun.com'.\n"
     ]
    },
    {
     "name": "stdout",
     "output_type": "stream",
     "text": [
      "Looking in indexes: http://mirrors.aliyun.com/pypi/simple/\n",
      "Requirement already satisfied: numpy in d:\\software\\anaconda3\\lib\\site-packages (1.20.1)\n",
      "Requirement already satisfied: scipy in d:\\software\\anaconda3\\lib\\site-packages (1.6.2)\n",
      "Requirement already satisfied: matplotlib in d:\\software\\anaconda3\\lib\\site-packages (3.3.4)\n",
      "Requirement already satisfied: pandas in d:\\software\\anaconda3\\lib\\site-packages (1.2.4)\n",
      "Requirement already satisfied: torch in d:\\software\\anaconda3\\lib\\site-packages (1.8.0)\n",
      "Requirement already satisfied: python-dateutil>=2.1 in d:\\software\\anaconda3\\lib\\site-packages (from matplotlib) (2.8.1)\n",
      "Requirement already satisfied: pillow>=6.2.0 in d:\\software\\anaconda3\\lib\\site-packages (from matplotlib) (8.2.0)\n",
      "Requirement already satisfied: kiwisolver>=1.0.1 in d:\\software\\anaconda3\\lib\\site-packages (from matplotlib) (1.3.1)\n",
      "Requirement already satisfied: pyparsing!=2.0.4,!=2.1.2,!=2.1.6,>=2.0.3 in d:\\software\\anaconda3\\lib\\site-packages (from matplotlib) (2.4.7)\n",
      "Requirement already satisfied: cycler>=0.10 in d:\\software\\anaconda3\\lib\\site-packages (from matplotlib) (0.10.0)\n",
      "Requirement already satisfied: six in d:\\software\\anaconda3\\lib\\site-packages (from cycler>=0.10->matplotlib) (1.15.0)\n",
      "Requirement already satisfied: pytz>=2017.3 in d:\\software\\anaconda3\\lib\\site-packages (from pandas) (2021.1)\n",
      "Requirement already satisfied: typing-extensions in d:\\software\\anaconda3\\lib\\site-packages (from torch) (3.7.4.3)\n"
     ]
    },
    {
     "name": "stderr",
     "output_type": "stream",
     "text": [
      "WARNING: The repository located at mirrors.aliyun.com is not a trusted or secure host and is being ignored. If this repository is available via HTTPS we recommend you use HTTPS instead, otherwise you may silence this warning and allow it anyway with '--trusted-host mirrors.aliyun.com'.\n"
     ]
    }
   ],
   "source": [
    "!pip install ipython jupyterlab jupyter notebook \n",
    "!pip install numpy scipy matplotlib pandas torch\n",
    "\n",
    "# https://developer.aliyun.com/article/652884\n",
    "# -i https://pypi.tuna.tsinghua.edu.cn/simple \n",
    "# --trusted-host  mirrors.aliyun.com"
   ]
  },
  {
   "cell_type": "code",
   "execution_count": 1,
   "metadata": {},
   "outputs": [],
   "source": [
    "import numpy as np\n",
    "import time\n",
    "\n",
    "np.set_printoptions(precision=3)"
   ]
  },
  {
   "cell_type": "markdown",
   "metadata": {},
   "source": [
    "# NumPy 是什么\n",
    "\n",
    "NumPy(Numerical Python)是Python的一种开源的数值计算扩展库。 提供了两种基本对象：\n",
    "\n",
    "1. ndarray：全称（n-dimensional array object）是储存单一数据类型的多维数组。\n",
    "2. ufunc：全称（universal function object）它是一种能够对数组进行处理的函数。\n"
   ]
  },
  {
   "cell_type": "markdown",
   "metadata": {},
   "source": [
    "## 为什么要用 NumPy\n",
    "\n",
    "跟原生Python的对比"
   ]
  },
  {
   "cell_type": "code",
   "execution_count": 3,
   "metadata": {},
   "outputs": [],
   "source": [
    "import numpy as np\n",
    "import time\n",
    "\n",
    "np.set_printoptions(precision=3)"
   ]
  },
  {
   "cell_type": "code",
   "execution_count": 2,
   "metadata": {},
   "outputs": [
    {
     "ename": "NameError",
     "evalue": "name 'np' is not defined",
     "output_type": "error",
     "traceback": [
      "\u001b[1;31m---------------------------------------------------------------------------\u001b[0m",
      "\u001b[1;31mNameError\u001b[0m                                 Traceback (most recent call last)",
      "\u001b[1;32m<ipython-input-2-edd8a63e32e4>\u001b[0m in \u001b[0;36m<module>\u001b[1;34m\u001b[0m\n\u001b[0;32m      1\u001b[0m \u001b[0mn\u001b[0m \u001b[1;33m=\u001b[0m \u001b[1;36m100\u001b[0m\u001b[1;33m\u001b[0m\u001b[1;33m\u001b[0m\u001b[0m\n\u001b[1;32m----> 2\u001b[1;33m \u001b[0ma1\u001b[0m \u001b[1;33m=\u001b[0m \u001b[0mnp\u001b[0m\u001b[1;33m.\u001b[0m\u001b[0mrandom\u001b[0m\u001b[1;33m.\u001b[0m\u001b[0mrandom\u001b[0m\u001b[1;33m(\u001b[0m\u001b[0msize\u001b[0m \u001b[1;33m=\u001b[0m \u001b[1;33m(\u001b[0m\u001b[1;36m100\u001b[0m\u001b[1;33m,\u001b[0m \u001b[1;36m100\u001b[0m\u001b[1;33m)\u001b[0m\u001b[1;33m)\u001b[0m\u001b[1;33m\u001b[0m\u001b[1;33m\u001b[0m\u001b[0m\n\u001b[0m\u001b[0;32m      3\u001b[0m \u001b[0ma2\u001b[0m \u001b[1;33m=\u001b[0m \u001b[0mnp\u001b[0m\u001b[1;33m.\u001b[0m\u001b[0mrandom\u001b[0m\u001b[1;33m.\u001b[0m\u001b[0mrandom\u001b[0m\u001b[1;33m(\u001b[0m\u001b[1;33m(\u001b[0m\u001b[1;36m100\u001b[0m\u001b[1;33m,\u001b[0m \u001b[1;36m100\u001b[0m\u001b[1;33m)\u001b[0m\u001b[1;33m)\u001b[0m\u001b[1;33m\u001b[0m\u001b[1;33m\u001b[0m\u001b[0m\n\u001b[0;32m      4\u001b[0m \u001b[0ma3\u001b[0m \u001b[1;33m=\u001b[0m \u001b[0mnp\u001b[0m\u001b[1;33m.\u001b[0m\u001b[0mzeros\u001b[0m\u001b[1;33m(\u001b[0m\u001b[0mshape\u001b[0m \u001b[1;33m=\u001b[0m \u001b[1;33m(\u001b[0m\u001b[1;36m100\u001b[0m\u001b[1;33m,\u001b[0m \u001b[1;36m100\u001b[0m\u001b[1;33m)\u001b[0m\u001b[1;33m)\u001b[0m\u001b[1;33m\u001b[0m\u001b[1;33m\u001b[0m\u001b[0m\n",
      "\u001b[1;31mNameError\u001b[0m: name 'np' is not defined"
     ]
    }
   ],
   "source": [
    "n = 100\n",
    "a1 = np.random.random(size = (100, 100))\n",
    "a2 = np.random.random((100, 100))\n",
    "a3 = np.zeros(shape = (100, 100))"
   ]
  },
  {
   "cell_type": "code",
   "execution_count": 7,
   "metadata": {},
   "outputs": [
    {
     "name": "stdout",
     "output_type": "stream",
     "text": [
      "0.887291431427002 second(s)\n"
     ]
    }
   ],
   "source": [
    "# 原生python\n",
    "# 偷懒了， 没用 list 列表\n",
    "\n",
    "start = time.time()\n",
    "\n",
    "for i in range(n):\n",
    "    for j in range(n):\n",
    "        for k in range(n):\n",
    "            a3[i][j] += a1[i][k] * a2[k][j]\n",
    "end = time.time()\n",
    "print(end - start, 'second(s)')"
   ]
  },
  {
   "cell_type": "code",
   "execution_count": 8,
   "metadata": {},
   "outputs": [
    {
     "name": "stdout",
     "output_type": "stream",
     "text": [
      "0.0911872386932373 second(s)\n"
     ]
    }
   ],
   "source": [
    "start = time.time()\n",
    "a3_np = np.dot(a1, a2)\n",
    "end = time.time()\n",
    "print(end - start, 'second(s)')"
   ]
  },
  {
   "cell_type": "code",
   "execution_count": 10,
   "metadata": {},
   "outputs": [
    {
     "data": {
      "text/plain": [
       "array([[ 0.000e+00,  3.553e-15,  0.000e+00, ...,  0.000e+00,  0.000e+00,\n",
       "         3.553e-15],\n",
       "       [ 0.000e+00,  0.000e+00,  3.553e-15, ...,  0.000e+00,  0.000e+00,\n",
       "         3.553e-15],\n",
       "       [ 0.000e+00, -3.553e-15,  0.000e+00, ...,  0.000e+00,  0.000e+00,\n",
       "         0.000e+00],\n",
       "       ...,\n",
       "       [ 0.000e+00,  0.000e+00,  0.000e+00, ..., -3.553e-15,  0.000e+00,\n",
       "         0.000e+00],\n",
       "       [ 0.000e+00,  0.000e+00, -3.553e-15, ..., -3.553e-15,  0.000e+00,\n",
       "        -3.553e-15],\n",
       "       [ 3.553e-15, -3.553e-15,  0.000e+00, ...,  0.000e+00,  0.000e+00,\n",
       "        -3.553e-15]])"
      ]
     },
     "execution_count": 10,
     "metadata": {},
     "output_type": "execute_result"
    }
   ],
   "source": [
    "a3_np - a3"
   ]
  },
  {
   "cell_type": "code",
   "execution_count": null,
   "metadata": {},
   "outputs": [],
   "source": []
  },
  {
   "cell_type": "markdown",
   "metadata": {},
   "source": [
    "# 主线介绍\n",
    "\n",
    "本文使用的例子如下图， 是一个3路softmax 分类任务的流程,  只用于展示numpy使用， 不涉及训练模型。\n",
    "\n",
    "![Softmax 3-分类](https://raw.githubusercontent.com/scilearner/NoWaste/master/image/3_class_demo.png)\n",
    "\n",
    "此模块在 图像文本分类 包括 文本生成 都很常见。\n",
    "\n",
    "![Softmax 3-分类](https://raw.githubusercontent.com/scilearner/NoWaste/master/image/softmax_from_transformer.png)\n",
    "\n",
    "\n",
    "为了简单， 对数据做一个简单假设， $X \\in R^{n \\times d}, z \\in R^{d \\times K}$, 其中 $n=300, d=5, K=3$,  大概如图\n",
    "\n",
    "![Softmax 3-分类 数据](https://raw.githubusercontent.com/scilearner/NoWaste/master/image/3_gaussian.png)"
   ]
  },
  {
   "cell_type": "code",
   "execution_count": 12,
   "metadata": {},
   "outputs": [],
   "source": [
    "# 为了得到一个分类预测、即走完流程图\n",
    "# 需要哪些功能\n",
    "\n",
    "\n",
    "\n",
    "# 大胆猜， 反正没检查"
   ]
  },
  {
   "cell_type": "markdown",
   "metadata": {},
   "source": [
    "\n",
    "需要\n",
    "\n",
    "1. 数据$X\\in R^{n \\times d}$——读取或生成创建\n",
    "2. 模型参数$W\\in R^{d \\times K}$——生成创建\n",
    "3. 数据通过模型（进行运算）$z = XW \\in R^{n\\times K}—— 矩阵乘法 \n",
    "4. softmax里的 指数函数、求和 —— 涉及数轴和 **广播**\n",
    "5. 交叉熵的计算 涉及到的内容 现在还说不清楚 —— **索引**与 **切片**\n",
    "\n",
    "$X$ 和 $W$ 在 NumPy里 都是 用 ndarray对象表示\n",
    "\n",
    "和 PyTorch 不一样，  PyTorch以 张量Tensor 为基础， 但模型参数默认有梯度， 和纯粹的数据是不太一样的"
   ]
  },
  {
   "cell_type": "markdown",
   "metadata": {},
   "source": [
    "\n",
    "## 数组概念\n",
    "\n",
    "N 维数组对象 ndarray (n-dimensional array object)\n",
    "\n",
    "在不关注底层实现的情况下， \n",
    "\n",
    "所谓“用于存放同类型元素的多维数组”， 那是相对原生Python的列表、元组的优势， 而且仅限于 数值计算 领域。\n",
    "\n",
    "- 比如， 根据 数组里具体的元素个数 和 元素类型， 可以直接得到该数组占的内存大小 —— C语言、JAVA语言都是这样\n",
    "- 又比如， NumPy的数组对象 简化逻辑、 提高运算速度、不用写循环——就是封装的函数——更复杂的逻辑 该写循环还是要写循环的\n",
    "\n",
    "这种“特点”， 属于 概念提炼， 属于一种总结、写作能力， 又需要相关背景。 自己总结不出来， 但看了总结，又觉得“无用”。\n"
   ]
  },
  {
   "cell_type": "markdown",
   "metadata": {},
   "source": [
    "# NumPy 数组的创建\n",
    "\n",
    "想要得到一个 ndarray 数组对象，方法：\n",
    "\n",
    "1. 来自其他   \n",
    "   图片、CSV、 原生Python的列表list/元组tuple、 PyTorch的张量、 Pandas、 多个ndarry数组\n",
    "2. 创建数组\n",
    "\n",
    "\n",
    "## 其他转换"
   ]
  },
  {
   "cell_type": "code",
   "execution_count": null,
   "metadata": {},
   "outputs": [],
   "source": [
    "# 读图片的模块 有很多种——我的意思就是我不怎么看\n",
    "# https://zhuanlan.zhihu.com/p/402833064\n",
    "\n",
    "# CSV， 起码有两个， 一个python内置csv, 另一个pandas\n",
    "\n",
    "# PyTorch\n",
    "tensor_torch.detach().cpu().numpy()"
   ]
  },
  {
   "cell_type": "code",
   "execution_count": 4,
   "metadata": {},
   "outputs": [
    {
     "data": {
      "text/plain": [
       "(numpy.ndarray, numpy.ndarray)"
      ]
     },
     "execution_count": 4,
     "metadata": {},
     "output_type": "execute_result"
    }
   ],
   "source": [
    "# Python的列表或元组\n",
    "# data = np.array( 列表或元组 )\n",
    "\n",
    "list_1 = [1, 2, 3, 4]\n",
    "tuple_1 = (5, 6, 7, 8)\n",
    "\n",
    "array1 = np.array(list_1)\n",
    "array2 = np.array(tuple_1)\n",
    "\n",
    "type(array1), type(array2)"
   ]
  },
  {
   "cell_type": "code",
   "execution_count": 5,
   "metadata": {},
   "outputs": [
    {
     "data": {
      "text/plain": [
       "(array([1, 2, 3]),\n",
       " array([[1, 2, 3],\n",
       "        [4, 5, 6]]))"
      ]
     },
     "execution_count": 5,
     "metadata": {},
     "output_type": "execute_result"
    }
   ],
   "source": [
    "\n",
    "data1 = np.array([1, 2, 3]) # 创建一个一维数组\n",
    "\n",
    "data2 = np.array([[1, 2, 3], [4, 5, 6]]) # 创建一个二维数组\n",
    "\n",
    "data1, data2 "
   ]
  },
  {
   "cell_type": "code",
   "execution_count": 6,
   "metadata": {},
   "outputs": [
    {
     "data": {
      "text/plain": [
       "([1, 2, 3], [array([1, 2, 3]), array([4, 5, 6])])"
      ]
     },
     "execution_count": 6,
     "metadata": {},
     "output_type": "execute_result"
    }
   ],
   "source": [
    "# 但反过来， ndarray转list可就\n",
    "\n",
    "list(data1), list(data2)"
   ]
  },
  {
   "cell_type": "markdown",
   "metadata": {},
   "source": [
    "## 数组的主要属性\n",
    "\n",
    "个人觉得最常用的只有一个shape 形状/维度\n",
    "\n",
    "其他的 一般不用， shape\n",
    "- ndim 维度个数\n",
    "- size 元素个数\n",
    "- dtype 元素类型"
   ]
  },
  {
   "cell_type": "code",
   "execution_count": 8,
   "metadata": {},
   "outputs": [
    {
     "data": {
      "text/plain": [
       "((3,), (2, 3))"
      ]
     },
     "execution_count": 8,
     "metadata": {},
     "output_type": "execute_result"
    }
   ],
   "source": [
    "data1.shape, data2.shape"
   ]
  },
  {
   "cell_type": "markdown",
   "metadata": {},
   "source": [
    "## 创建\n",
    "\n",
    "为了创建/初始化一个数组对象， 我们需要一些信息：\n",
    "\n",
    "1. 形状\n",
    "2. 数值——全0、全1、随机（高斯、均匀）、序列\n",
    "3. 类型——整数、浮点， 精度\n",
    "\n",
    "数值内容为函数名， 形状与类型则为参数\n",
    "\n",
    "所以还是得列举， 我们生成数据当然是用随机的概率分布， 但权重W 没规定"
   ]
  },
  {
   "cell_type": "code",
   "execution_count": 7,
   "metadata": {},
   "outputs": [],
   "source": [
    "# 全0\n",
    "all_0 = np.zeros(shape=(2, 3, 1, 5))\n",
    "\n",
    "# 全1\n",
    "all_1 = np.zeros(shape=(2, 2, 7, 1))\n",
    "\n",
    "# 全 指定值\n",
    "all_v = np.full(3, np.pi)\n",
    "\n",
    "# 只分配空间——原则上说，这个的必要性在哪里？\n",
    "all_empty = np.empty([2, 3])\n",
    "\n",
    "# 空——也没什么意义\n",
    "empty = np.array([])\n",
    "\n",
    "# 单个数——更没必要\n",
    "v = np.array(234.523)\n"
   ]
  },
  {
   "cell_type": "markdown",
   "metadata": {},
   "source": [
    "还有一些特定情况\n",
    "\n",
    "比如 \n",
    "- 单位矩阵/方阵 identity matrix  2d 2维的\n",
    "- 对角线矩阵\n",
    "\n",
    "各种序列\n",
    "- 用作 x轴 的自然数序列\n",
    "- 等差数列\n"
   ]
  },
  {
   "cell_type": "code",
   "execution_count": 15,
   "metadata": {},
   "outputs": [
    {
     "name": "stdout",
     "output_type": "stream",
     "text": [
      "[0 1 2 3 4 5 6 7 8 9]\n",
      "[ 0  2  4  6  8 10]\n",
      "[ 0.     1.111  2.222  3.333  4.444  5.556  6.667  7.778  8.889 10.   ]\n",
      "(10,)\n"
     ]
    }
   ],
   "source": [
    "# 0，1，2，3，4，....N-1 这种序列， 来自原生python 的 range 函数\n",
    "# numpy.arange([start, ]stop, [step, ]dtype=None, *, like=None)\n",
    "a = np.arange(10)\n",
    "print(a)\n",
    "\n",
    "a2 = np.arange(10.1, step=2, dtype=np.int32)\n",
    "print(a2)\n",
    "\n",
    "# [start, stop] 闭区间的函数有没有？\n",
    "# numpy.linspace(start, stop, num=50, endpoint=True, retstep=False, dtype=None, axis=0)[source]\n",
    "# 等间隔\n",
    "a3 = np.linspace(0, 10, 10)\n",
    "print(a3)\n",
    "print(a3.shape)"
   ]
  },
  {
   "cell_type": "markdown",
   "metadata": {},
   "source": [
    "自定义函数 创建ndarray\n",
    "\n",
    "numpy create custom array\n",
    "\n",
    "要用到 fromfunction\n",
    "\n",
    "另外还有像 ones_like(ndarray), zeros_like(ndarray), 用 ndarray.shape 传给 原函数 也行"
   ]
  },
  {
   "cell_type": "markdown",
   "metadata": {},
   "source": [
    "## 概率分布创建随机数组\n",
    "\n",
    "有很多分布都有实现， 但我们最常用的不外乎：\n",
    "\n",
    "1. 均匀分布， [0,1)的均匀分布\n",
    "2. 高斯分布， N(0, 1)的正态分布\n",
    "3. 离散的均匀分布， 也就是 掷N面骰子\n"
   ]
  },
  {
   "cell_type": "code",
   "execution_count": 17,
   "metadata": {},
   "outputs": [
    {
     "name": "stdout",
     "output_type": "stream",
     "text": [
      "(2, 3, 3, 3)\n",
      "0.2852487205924815\n",
      "(1, 2)\n",
      "(1, 6, 8)\n",
      "(6,)\n"
     ]
    }
   ],
   "source": [
    "# [0， 1) 的均匀分布\n",
    "a1 = np.random.rand( 2, 3, 3, 3 )\n",
    "print(a1.shape)\n",
    "\n",
    "# 无参数\n",
    "print(np.random.rand())\n",
    "\n",
    "# 完整版均匀分布\n",
    "a2 = np.random.uniform(low=-3, high=3, size=[1,2])\n",
    "print(a2.shape)\n",
    "\n",
    "# 正态分布 N(0, 1)\n",
    "a3 = np.random.randn( 1, 6, 8 )\n",
    "print(a3.shape)\n",
    "\n",
    "# 完整版高斯分布\n",
    "a4 = np.random.normal(loc=0, scale=0.1, size=[6, ])\n",
    "print(a4.shape)"
   ]
  },
  {
   "cell_type": "code",
   "execution_count": 3,
   "metadata": {},
   "outputs": [
    {
     "data": {
      "image/png": "[encoded data removed]",
      "text/plain": [
       "<Figure size 432x288 with 1 Axes>"
      ]
     },
     "metadata": {
      "needs_background": "light"
     },
     "output_type": "display_data"
    }
   ],
   "source": [
    "# 画个随机图片玩玩\n",
    "\n",
    "img =  np.random.uniform(low=0.0, high=1.0, size=(64, 64, 3))\n",
    "import matplotlib.pyplot as plt\n",
    "plt.imshow(img)\n",
    "plt.show()\n",
    "plt.close()\n"
   ]
  },
  {
   "cell_type": "code",
   "execution_count": 27,
   "metadata": {},
   "outputs": [
    {
     "name": "stdout",
     "output_type": "stream",
     "text": [
      "[[1.931 4.803]\n",
      " [2.217 3.067]\n",
      " [2.725 3.466]]\n",
      "(4, 3)\n",
      "(4, 3)\n"
     ]
    }
   ],
   "source": [
    "# 均匀分布里的 low 和 high\n",
    "\n",
    "a1 = np.random.uniform(low=[1,2], high=[4,5], size=[3, 2])\n",
    "print(a1)\n",
    "\n",
    "# 失败例子\n",
    "# a2 = np.random.uniform(low=[1,2,3], high=[4,5,6], size=[3, 2])\n",
    "# print(a2)\n",
    "\n",
    "# 高斯分布里的 loc 和 scale Standard deviation\n",
    "a3 = np.random.normal(loc=[0, 2, 3], scale=0.1, size=[4, 3])\n",
    "print(a3.shape)\n",
    "\n",
    "a4 = np.random.normal(loc=[0, 2, 3], scale=[0.1, 0.2, 0.3], size=[4, 3])\n",
    "print(a4.shape)"
   ]
  },
  {
   "cell_type": "markdown",
   "metadata": {},
   "source": [
    "### 随机种子\n",
    "\n",
    "为了随机采样结果的可重复性， NumPy 提供了 设置随机种子的函数\n"
   ]
  },
  {
   "cell_type": "code",
   "execution_count": 30,
   "metadata": {},
   "outputs": [
    {
     "name": "stdout",
     "output_type": "stream",
     "text": [
      "0.3745401188473625 0.9507143064099162 False\n"
     ]
    }
   ],
   "source": [
    "np.random.seed(42)\n",
    "v1 = np.random.rand()\n",
    "v2 = np.random.rand()\n",
    "print(v1, v2, v1==v2)"
   ]
  },
  {
   "cell_type": "code",
   "execution_count": 31,
   "metadata": {},
   "outputs": [
    {
     "name": "stdout",
     "output_type": "stream",
     "text": [
      "0.3745401188473625 0.3745401188473625 True\n"
     ]
    }
   ],
   "source": [
    "np.random.seed(42)\n",
    "v1 = np.random.rand()\n",
    "np.random.seed(42)\n",
    "v2 = np.random.rand()\n",
    "print(v1, v2, v1==v2)"
   ]
  },
  {
   "cell_type": "markdown",
   "metadata": {},
   "source": [
    "## 元素类型\n",
    "\n",
    "ndarray里的元素具有相同的元素类型。\n",
    "\n",
    "常用的有int（整型， 无符号unsigned），float（浮点型），complex（复数型）， 再加上精度。 还有 True/False的布尔值。 字节值byte。\n",
    "\n",
    "类型: [int, uint, float]   \n",
    "精度: [8, 16, 32, 64]\n",
    "\n",
    "除了图片 0-255 是 uint8以外，  其他情况32、64该怎么选， 我也没太在意过。\n",
    "\n",
    "### 类型转换\n",
    "\n",
    "除了创建时， 参数设置dtype=... 以外， 需要直接转换类型"
   ]
  },
  {
   "cell_type": "code",
   "execution_count": 33,
   "metadata": {},
   "outputs": [
    {
     "name": "stdout",
     "output_type": "stream",
     "text": [
      "[[-0.236 -2.555]]\n"
     ]
    },
    {
     "data": {
      "text/plain": [
       "array([[ 0, -2]])"
      ]
     },
     "execution_count": 33,
     "metadata": {},
     "output_type": "execute_result"
    }
   ],
   "source": [
    "print(a2)\n",
    "a2.astype(np.int32)"
   ]
  },
  {
   "cell_type": "markdown",
   "metadata": {},
   "source": [
    "副本或视图in-place\n",
    "\n",
    "函数 是返回一个副本 copy 呢， 还是返回一个视图view, in-place改变原数组的值\n",
    "\n",
    "没怎么在意， 也不需要在意， in-place的很少，而且基本能猜到"
   ]
  },
  {
   "cell_type": "markdown",
   "metadata": {},
   "source": [
    "## 形状变换\n",
    "\n",
    "已知ndarray的形状属性 ndarray.shape\n",
    "\n",
    "有时需要变换形状\n",
    "\n",
    "比如， 需要把 (3, w, h)的图片 变成一个 3*w*h的向量， 又或者 (w, h, 3)的数轴顺序\n",
    "\n",
    "也许可以分为\n",
    "\n",
    "1. Shaping 变形\n",
    "2. Transposition 调换"
   ]
  },
  {
   "cell_type": "markdown",
   "metadata": {},
   "source": [
    "### 变形\n",
    "\n",
    "shaping\n",
    "\n",
    "主要用的就是 ndarray.reshape(shape, order='C')\n",
    "\n",
    "其他 flatten什么的， 都可以用reshape来代替"
   ]
  },
  {
   "cell_type": "code",
   "execution_count": 34,
   "metadata": {},
   "outputs": [
    {
     "data": {
      "text/plain": [
       "array([[0, 1, 2],\n",
       "       [3, 4, 5]])"
      ]
     },
     "execution_count": 34,
     "metadata": {},
     "output_type": "execute_result"
    }
   ],
   "source": [
    "a = np.arange(6)\n",
    "\n",
    "a.reshape((2, 3))\n",
    "\n",
    "# order 不用管它"
   ]
  },
  {
   "cell_type": "code",
   "execution_count": 35,
   "metadata": {},
   "outputs": [
    {
     "data": {
      "text/plain": [
       "array([[[ 0,  1,  2,  3],\n",
       "        [ 4,  5,  6,  7],\n",
       "        [ 8,  9, 10, 11]],\n",
       "\n",
       "       [[12, 13, 14, 15],\n",
       "        [16, 17, 18, 19],\n",
       "        [20, 21, 22, 23]]])"
      ]
     },
     "execution_count": 35,
     "metadata": {},
     "output_type": "execute_result"
    }
   ],
   "source": [
    "a = np.arange(24)\n",
    "\n",
    "a.reshape((2, 3, 4))"
   ]
  },
  {
   "cell_type": "code",
   "execution_count": 37,
   "metadata": {},
   "outputs": [
    {
     "name": "stdout",
     "output_type": "stream",
     "text": [
      "(100, 3072)\n",
      "(307200,)\n"
     ]
    }
   ],
   "source": [
    "# -1 的特殊指代 与 flatten\n",
    "\n",
    "feature_map = np.random.rand(100, 3, 32, 32) \n",
    "# 转特征向量\n",
    "feature_vector = feature_map.reshape(100, -1)\n",
    "print(feature_vector.shape)\n",
    "\n",
    "fv2 = feature_map.flatten()\n",
    "print(fv2.shape)\n"
   ]
  },
  {
   "cell_type": "code",
   "execution_count": 45,
   "metadata": {},
   "outputs": [
    {
     "name": "stdout",
     "output_type": "stream",
     "text": [
      "torch.Size([100, 3, 32, 32])\n",
      "torch.Size([100, 3072])\n",
      "torch.Size([307200])\n",
      "torch.Size([100, 3072])\n"
     ]
    }
   ],
   "source": [
    "# PyTorch里的flatten\n",
    "import torch\n",
    "fm = torch.randn(100, 3, 32, 32)\n",
    "print(fm.shape)\n",
    "fv = fm.reshape(100, -1)\n",
    "print(fv.shape)\n",
    "\n",
    "fv2 = fm.flatten()\n",
    "print(fv2.shape)\n",
    "\n",
    "fv3 = fm.flatten(start_dim=1, end_dim=-1)\n",
    "print(fv3.shape)\n",
    "\n",
    "# 为什么pytorch会多参数， 因为 一般是一个批次batch的数据"
   ]
  },
  {
   "cell_type": "markdown",
   "metadata": {},
   "source": [
    "### 调换数轴顺序\n",
    "\n",
    "Transposition 轴axes的顺序调换\n",
    "\n",
    "常见情况\n",
    "\n",
    "1. 2维矩阵转换 $A^T A$,  像属性一样的 ndarray.T\n",
    "2. 通用的调换 ndarray.transpose\n",
    "\n",
    "#### 矩阵转置\n"
   ]
  },
  {
   "cell_type": "code",
   "execution_count": 5,
   "metadata": {},
   "outputs": [
    {
     "name": "stdout",
     "output_type": "stream",
     "text": [
      "[[ 0  1  2  3]\n",
      " [ 4  5  6  7]\n",
      " [ 8  9 10 11]]\n",
      "[[ 0  4  8]\n",
      " [ 1  5  9]\n",
      " [ 2  6 10]\n",
      " [ 3  7 11]]\n"
     ]
    }
   ],
   "source": [
    "# 转置\n",
    "\n",
    "m = np.arange(12).reshape(3, 4)\n",
    "print(m)\n",
    "m2 = m.T\n",
    "print(m2)"
   ]
  },
  {
   "cell_type": "code",
   "execution_count": 6,
   "metadata": {},
   "outputs": [
    {
     "name": "stdout",
     "output_type": "stream",
     "text": [
      "[[100   4   8]\n",
      " [  1   5   9]\n",
      " [  2   6  10]\n",
      " [  3   7  11]]\n",
      "[[100   1   2   3]\n",
      " [  4   5   6   7]\n",
      " [  8   9  10  11]]\n"
     ]
    }
   ],
   "source": [
    "m2[0][0] = 100\n",
    "print(m2)\n",
    "print(m)\n",
    "\n",
    "# 可见， 返回的是 ____   "
   ]
  },
  {
   "cell_type": "markdown",
   "metadata": {},
   "source": [
    "#### 数轴调换\n",
    "\n",
    "好像也不怎么常用， 印象中只有 pytorch的图片格式 (c, size, size) 与 tf/numpy用的 (size, size, c)\n",
    "\n",
    "而 2D矩阵的 宽w和高h 用 转置就行了"
   ]
  },
  {
   "cell_type": "code",
   "execution_count": 7,
   "metadata": {},
   "outputs": [
    {
     "data": {
      "text/plain": [
       "(100, 64, 64, 3)"
      ]
     },
     "execution_count": 7,
     "metadata": {},
     "output_type": "execute_result"
    }
   ],
   "source": [
    "img = np.random.rand(100, 3, 64, 64)\n",
    "img_after = img.transpose((0, 2, 3, 1))\n",
    "img_after.shape"
   ]
  },
  {
   "cell_type": "code",
   "execution_count": 8,
   "metadata": {},
   "outputs": [
    {
     "data": {
      "text/plain": [
       "(4, 3, 2, 1)"
      ]
     },
     "execution_count": 8,
     "metadata": {},
     "output_type": "execute_result"
    }
   ],
   "source": [
    "# n>2情况下的转置\n",
    "img = np.random.rand(1,2,3,4)\n",
    "img_after = img.T\n",
    "img_after.shape"
   ]
  },
  {
   "cell_type": "code",
   "execution_count": 10,
   "metadata": {},
   "outputs": [
    {
     "name": "stdout",
     "output_type": "stream",
     "text": [
      "[[ 0  1  2  3]\n",
      " [ 4  5  6  7]\n",
      " [ 8  9 10 11]]\n",
      "[[ 0  4  8]\n",
      " [ 1  5  9]\n",
      " [ 2  6 10]\n",
      " [ 3  7 11]]\n",
      "[[100   4   8]\n",
      " [  1   5   9]\n",
      " [  2   6  10]\n",
      " [  3   7  11]]\n",
      "[[100   1   2   3]\n",
      " [  4   5   6   7]\n",
      " [  8   9  10  11]]\n"
     ]
    }
   ],
   "source": [
    "# 转置\n",
    "\n",
    "m = np.arange(12).reshape(3, 4)\n",
    "print(m)\n",
    "m2 = m.transpose((1,0))\n",
    "print(m2)\n",
    "\n",
    "m2[0][0] = 100\n",
    "print(m2)\n",
    "print(m)"
   ]
  },
  {
   "cell_type": "markdown",
   "metadata": {},
   "source": [
    "## 主线实例第一步-创建数组\n",
    "\n",
    "目标: 初始化 $𝑋 \\in 𝑅^{𝑛 \\times 𝑑}$ 及 $𝑊 \\in R^{d\\times K}$ \n",
    "\n",
    "𝑛=300, 𝑑=5, 三个类别K=3，对应高斯分布 均值、方差分别为：([0,0,0,0,0], 1), ([3,4,5,4,3], 0.5), ([3,-4,5,-4,3], 0.8)\n"
   ]
  },
  {
   "cell_type": "code",
   "execution_count": 12,
   "metadata": {},
   "outputs": [],
   "source": [
    "np.random.seed(666)\n",
    "\n",
    "# 初始化 W\n",
    "\n",
    "W = np.random.randn(5, 3)\n",
    "\n",
    "# 初始化三个聚簇的数据 X ——不想搞平均\n",
    "c1 = np.random.normal([0,0,0,0,0], 1, size=(150, 5))\n",
    "c2 = np.random.normal([3,4,5,4,3], 0.5, size=(100, 5))\n",
    "c3 = np.random.normal([3,-4,5,-4,3], 0.8, size=(50, 5))\n",
    "\n",
    "# 初始化 标签 𝑌∈{0,1,2}^𝑛\n",
    "\n",
    "y1 = np.zeros(150, dtype=np.int32)\n",
    "y2 = np.ones(100, dtype=np.int32)\n",
    "y3 = np.full(50, 2, dtype=np.int32)\n",
    "\n",
    "# 问题？\n"
   ]
  },
  {
   "cell_type": "markdown",
   "metadata": {},
   "source": [
    "## 数组的合并/拼接\n",
    "\n",
    "多个多维数组进行 连接/合并/拼接 操作\n",
    "\n",
    "常用方法有：\n",
    "\n",
    "concatenate(), vstack(), hstack()\n",
    "\n",
    "仅介绍 concatenate()函数 对应 PyTorch torch.cat()\n",
    "\n",
    "> numpy.concatenate((a1, a2, ...), axis=0, out=None, dtype=None, casting=\"same_kind\")\n",
    "\n",
    "concatenate 函数会将 (𝑎1,𝑎2,…) 多个ndarray沿着 *指定axis轴* 进行拼接\n",
    "\n",
    "因此其他维数必须相等\n"
   ]
  },
  {
   "cell_type": "code",
   "execution_count": 14,
   "metadata": {},
   "outputs": [
    {
     "name": "stdout",
     "output_type": "stream",
     "text": [
      "(300, 5)\n",
      "(300,)\n"
     ]
    },
    {
     "ename": "ValueError",
     "evalue": "all the input array dimensions for the concatenation axis must match exactly, but along dimension 0, the array at index 0 has size 150 and the array at index 1 has size 100",
     "output_type": "error",
     "traceback": [
      "\u001b[1;31m---------------------------------------------------------------------------\u001b[0m",
      "\u001b[1;31mValueError\u001b[0m                                Traceback (most recent call last)",
      "\u001b[1;32m<ipython-input-14-8001ff7d2bcf>\u001b[0m in \u001b[0;36m<module>\u001b[1;34m\u001b[0m\n\u001b[0;32m      5\u001b[0m \u001b[0mprint\u001b[0m\u001b[1;33m(\u001b[0m\u001b[0my\u001b[0m\u001b[1;33m.\u001b[0m\u001b[0mshape\u001b[0m\u001b[1;33m)\u001b[0m\u001b[1;33m\u001b[0m\u001b[1;33m\u001b[0m\u001b[0m\n\u001b[0;32m      6\u001b[0m \u001b[1;33m\u001b[0m\u001b[0m\n\u001b[1;32m----> 7\u001b[1;33m \u001b[0mx2\u001b[0m \u001b[1;33m=\u001b[0m \u001b[0mnp\u001b[0m\u001b[1;33m.\u001b[0m\u001b[0mconcatenate\u001b[0m\u001b[1;33m(\u001b[0m\u001b[1;33m(\u001b[0m\u001b[0mc1\u001b[0m\u001b[1;33m,\u001b[0m \u001b[0mc2\u001b[0m\u001b[1;33m,\u001b[0m \u001b[0mc3\u001b[0m\u001b[1;33m)\u001b[0m\u001b[1;33m,\u001b[0m \u001b[0maxis\u001b[0m\u001b[1;33m=\u001b[0m\u001b[1;36m1\u001b[0m\u001b[1;33m)\u001b[0m\u001b[1;33m\u001b[0m\u001b[1;33m\u001b[0m\u001b[0m\n\u001b[0m",
      "\u001b[1;32m<__array_function__ internals>\u001b[0m in \u001b[0;36mconcatenate\u001b[1;34m(*args, **kwargs)\u001b[0m\n",
      "\u001b[1;31mValueError\u001b[0m: all the input array dimensions for the concatenation axis must match exactly, but along dimension 0, the array at index 0 has size 150 and the array at index 1 has size 100"
     ]
    }
   ],
   "source": []
  },
  {
   "cell_type": "code",
   "execution_count": 15,
   "metadata": {},
   "outputs": [
    {
     "data": {
      "text/plain": [
       "(10, 6, 10)"
      ]
     },
     "execution_count": 15,
     "metadata": {},
     "output_type": "execute_result"
    }
   ],
   "source": [
    "# 例子， 换个轴\n",
    "\n",
    "a1 = np.random.rand(10, 5, 10)\n",
    "a2 = np.random.rand(10, 1, 10)\n",
    "a = np.concatenate([a1, a2], axis=1)\n",
    "a.shape"
   ]
  },
  {
   "cell_type": "markdown",
   "metadata": {},
   "source": [
    "维度数不相等\n",
    "\n",
    "最常见的情况是已有n， 再加1"
   ]
  },
  {
   "cell_type": "code",
   "execution_count": 17,
   "metadata": {},
   "outputs": [
    {
     "data": {
      "text/plain": [
       "(11, 3, 32, 32)"
      ]
     },
     "execution_count": 17,
     "metadata": {},
     "output_type": "execute_result"
    }
   ],
   "source": [
    "a1 = np.random.rand(10, 3, 32, 32)\n",
    "a2 = np.random.rand(3, 32, 32)\n",
    "a = np.concatenate((a1, a2.reshape(1, 3, 32, 32)), axis=0)\n",
    "a.shape"
   ]
  },
  {
   "cell_type": "code",
   "execution_count": 18,
   "metadata": {},
   "outputs": [
    {
     "data": {
      "text/plain": [
       "(11, 3, 32, 32)"
      ]
     },
     "execution_count": 18,
     "metadata": {},
     "output_type": "execute_result"
    }
   ],
   "source": [
    "a = np.concatenate((a1, a2[np.newaxis]), axis=0)  # 或 None\n",
    "a.shape"
   ]
  },
  {
   "cell_type": "code",
   "execution_count": 20,
   "metadata": {},
   "outputs": [
    {
     "data": {
      "text/plain": [
       "(10, 4, 32, 32)"
      ]
     },
     "execution_count": 20,
     "metadata": {},
     "output_type": "execute_result"
    }
   ],
   "source": [
    "a1 = np.random.rand(10, 3, 32, 32)\n",
    "a2 = np.random.rand(10, 32, 32)\n",
    "a = np.concatenate((a1, a2[:, None]), axis=1)\n",
    "a.shape"
   ]
  },
  {
   "cell_type": "markdown",
   "metadata": {},
   "source": [
    "## 总结/实例\n",
    "\n",
    "1. 多种创建函数\n",
    "2. 属性: 类型dtype, 类型转换 astype; 形状shape, 变形reshape, 调换 .T 和 transpose\n",
    "3. 多个ndarray的拼接"
   ]
  },
  {
   "cell_type": "code",
   "execution_count": 22,
   "metadata": {},
   "outputs": [
    {
     "name": "stdout",
     "output_type": "stream",
     "text": [
      "(5, 3)\n",
      "(300, 5)\n",
      "(300,)\n"
     ]
    }
   ],
   "source": [
    "np.random.seed(666)\n",
    "\n",
    "# 初始化 W\n",
    "\n",
    "W = np.random.randn(5, 3)\n",
    "print(W.shape)\n",
    "\n",
    "# 初始化三个聚簇的数据 X ——不想搞平均\n",
    "c1 = np.random.normal([0,0,0,0,0], 1, size=(150, 5))\n",
    "c2 = np.random.normal([3,4,5,4,3], 0.5, size=(100, 5))\n",
    "c3 = np.random.normal([3,-4,5,-4,3], 0.8, size=(50, 5))\n",
    "\n",
    "# 初始化 标签 𝑌∈{0,1,2}^𝑛\n",
    "\n",
    "y1 = np.zeros(150, dtype=np.int32)\n",
    "y2 = np.ones(100, dtype=np.int32)\n",
    "y3 = np.full(50, 2, dtype=np.int32)\n",
    "\n",
    "x = np.concatenate((c1, c2, c3), axis=0)\n",
    "print(x.shape)\n",
    "\n",
    "y = np.concatenate((y1, y2, y3))\n",
    "print(y.shape)"
   ]
  },
  {
   "cell_type": "code",
   "execution_count": null,
   "metadata": {},
   "outputs": [],
   "source": []
  },
  {
   "cell_type": "markdown",
   "metadata": {},
   "source": [
    "# 数组运算 与 广播机制broadcasting"
   ]
  },
  {
   "cell_type": "markdown",
   "metadata": {},
   "source": [
    "## 基本函数"
   ]
  },
  {
   "cell_type": "markdown",
   "metadata": {},
   "source": [
    "## 数组相乘函数"
   ]
  },
  {
   "cell_type": "markdown",
   "metadata": {},
   "source": [
    "## 主线实例第二步 数组相乘运算"
   ]
  },
  {
   "cell_type": "markdown",
   "metadata": {},
   "source": [
    "## 批次数组运算\n",
    "\n",
    "batch matrix multiplication\n",
    "场景：  self-attention自注意力层\n"
   ]
  },
  {
   "cell_type": "markdown",
   "metadata": {},
   "source": [
    "## 主线实例第三步 softmax计算"
   ]
  },
  {
   "cell_type": "markdown",
   "metadata": {},
   "source": [
    "## 数轴"
   ]
  },
  {
   "cell_type": "markdown",
   "metadata": {},
   "source": [
    "## 广播"
   ]
  },
  {
   "cell_type": "markdown",
   "metadata": {},
   "source": [
    "# 索引indexing 与 切片slicing\n",
    "\n",
    "## 主线实例第四步 交叉熵计算\n",
    "\n",
    "已知概率向量 $\\hat{y} \\in R^{n\\times K}$,  𝑦∈𝑅^𝑛,𝑛=300,𝑑=5,𝐾=3\n",
    "\n",
    "目标函数 和 损失函数的关系\n",
    "\n",
    "交叉熵损失函数 \n",
    "\n",
    "$$ - \\sum^K_i y_i \\log (\\hat{y})$$\n",
    "\n",
    "计算方案， 不外乎两种\n",
    "\n",
    "1. 扩展y, 用 𝑦 构建 one-hot 编码 𝑅^(𝑛×𝐾)，再对位相乘\n",
    "2. 收缩$\\hat{y}$, 以 𝑦 作为 下标索引，直接选择对应的$\\log \\hat{y}$值\n",
    "\n",
    "需要索引indexing功能。\n",
    "\n",
    "切片slicing 就是一种特定的、 连续的序列索引。 不卡概念的话， 就是没什么区别。\n",
    "\n",
    "一维numpy的 ndarray的切片和 python列表list是一样的。\n",
    "\n",
    "多维ndarray 使用 [, ,...,] matlab式的索引切片， 用','分隔开不同轴"
   ]
  },
  {
   "cell_type": "code",
   "execution_count": 9,
   "metadata": {},
   "outputs": [
    {
     "name": "stdout",
     "output_type": "stream",
     "text": [
      "[0 1 2 3 4 5 6 7 8 9]\n"
     ]
    },
    {
     "data": {
      "text/plain": [
       "(5,\n",
       " array([5, 2]),\n",
       " array([3, 4]),\n",
       " array([0, 1, 2, 3, 4]),\n",
       " array([0, 1, 2, 3, 4, 5, 6, 7, 8]),\n",
       " array([1, 3, 5, 7]),\n",
       " array([9, 8, 7, 6, 5, 4, 3, 2, 1, 0]),\n",
       " array([5, 3]))"
      ]
     },
     "execution_count": 9,
     "metadata": {},
     "output_type": "execute_result"
    }
   ],
   "source": [
    "# 一维索引与切片\n",
    "a = np.arange(10)\n",
    "print( a )\n",
    "\n",
    "# 单个值作为下标 只返回一个值\n",
    "# 用 切片:,  列表/元组， ndarray 则返回 ndarray\n",
    "\n",
    "a[5], a[[5, 2]], a[3:5], a[:5], a[:-1], a[1:-1:2], a[::-1], a[5:1:-2]"
   ]
  },
  {
   "cell_type": "code",
   "execution_count": 8,
   "metadata": {},
   "outputs": [
    {
     "data": {
      "text/plain": [
       "array([  0,   1, 100, 101,   4,   5,   6,   7,   8,   9])"
      ]
     },
     "execution_count": 8,
     "metadata": {},
     "output_type": "execute_result"
    }
   ],
   "source": [
    "# 可以通过切片 对ndarray中的元素进行更改。\n",
    "a[2:4] = 100, 101\n",
    "a"
   ]
  },
  {
   "cell_type": "code",
   "execution_count": 10,
   "metadata": {},
   "outputs": [
    {
     "name": "stdout",
     "output_type": "stream",
     "text": [
      "[[ 0  1  2  3  4  5]\n",
      " [10 11 12 13 14 15]\n",
      " [20 21 22 23 24 25]\n",
      " [30 31 32 33 34 35]\n",
      " [40 41 42 43 44 45]\n",
      " [50 51 52 53 54 55]]\n"
     ]
    },
    {
     "data": {
      "text/plain": [
       "(array([3, 4]),\n",
       " array([[44, 45],\n",
       "        [54, 55]]),\n",
       " array([[20, 22, 24],\n",
       "        [40, 42, 44]]))"
      ]
     },
     "execution_count": 10,
     "metadata": {},
     "output_type": "execute_result"
    }
   ],
   "source": [
    "# 多维数组切片 也一样， 需要把不同的数轴用 ',' 隔开  \n",
    "a = np.arange(0, 60, 10).reshape(-1, 1) + np.arange(0, 6)\n",
    "print(a)\n",
    "\n",
    "a[0, 3:5],  a[4:, 4:],  a[2::2, ::2] "
   ]
  },
  {
   "cell_type": "code",
   "execution_count": 12,
   "metadata": {},
   "outputs": [
    {
     "data": {
      "text/plain": [
       "(array([3, 4]),\n",
       " array([], shape=(0, 6), dtype=int32),\n",
       " array([[20, 21, 22, 23, 24, 25]]))"
      ]
     },
     "execution_count": 12,
     "metadata": {},
     "output_type": "execute_result"
    }
   ],
   "source": [
    "# 只管一个轴\n",
    "\n",
    "a[0][3:5],  a[4:][4:],  a[2::2][::2] "
   ]
  },
  {
   "cell_type": "markdown",
   "metadata": {},
   "source": [
    "### 存储空间共享\n",
    "\n",
    "ndarray通过切片产生一个新的数组b，b和a共享同一块数据存储空间。\n",
    "\n",
    "如果我们想创立原数组的副本，我们可以用整数元组，列表，整数数组，布尔数组进行切片。\n"
   ]
  },
  {
   "cell_type": "code",
   "execution_count": 14,
   "metadata": {},
   "outputs": [
    {
     "name": "stdout",
     "output_type": "stream",
     "text": [
      "[0 1 2 3 4 5 6 7 8 9]\n"
     ]
    },
    {
     "data": {
      "text/plain": [
       "(array([  3,   4, -10,   6]),\n",
       " array([  0,   1,   2,   3,   4, -10,   6,   7,   8,   9]))"
      ]
     },
     "execution_count": 14,
     "metadata": {},
     "output_type": "execute_result"
    }
   ],
   "source": [
    "a = np.arange(10)\n",
    "print(a)\n",
    "b = a[3:7] \n",
    "b[2] = -10\n",
    "\n",
    "b, a"
   ]
  },
  {
   "cell_type": "code",
   "execution_count": 15,
   "metadata": {},
   "outputs": [
    {
     "name": "stdout",
     "output_type": "stream",
     "text": [
      "[3 3 7 8]\n"
     ]
    },
    {
     "data": {
      "text/plain": [
       "(array([  3,   3, 100,   8]),\n",
       " array([  0,   1,   2,   3,   4, -10,   6,   7,   8,   9]))"
      ]
     },
     "execution_count": 15,
     "metadata": {},
     "output_type": "execute_result"
    }
   ],
   "source": [
    "b = a[[3, 3, -3, 8]]\n",
    "print(b)\n",
    "b[2] = 100\n",
    "b, a"
   ]
  },
  {
   "cell_type": "markdown",
   "metadata": {},
   "source": [
    "比较运算与布尔逻辑运算\n",
    "\n",
    "可以用整数元组，列表，整数数组，布尔数组进行切片。\n",
    "\n",
    "ndarray 还支持比较运算和布尔逻辑运算\n"
   ]
  },
  {
   "cell_type": "code",
   "execution_count": 17,
   "metadata": {},
   "outputs": [
    {
     "name": "stdout",
     "output_type": "stream",
     "text": [
      "[0.893 0.332 0.821 0.042 0.108 0.595 0.53  0.419 0.335 0.623]\n",
      "[ True False  True False False  True  True False False  True]\n",
      "[False  True False  True  True False False  True  True False]\n",
      "[0.893 0.821 0.595 0.53  0.623]\n"
     ]
    }
   ],
   "source": [
    "np.random.seed(6)\n",
    "a = np.random.rand(10)\n",
    "print(a)\n",
    "\n",
    "# 每个元素是否大于 0.5\n",
    "print(a > 0.5)\n",
    "\n",
    "# 取反\n",
    "print( ~(a > 0.5) )\n",
    "\n",
    "# 布尔数组切片\n",
    "print( a[a>0.5])"
   ]
  },
  {
   "cell_type": "code",
   "execution_count": null,
   "metadata": {},
   "outputs": [],
   "source": [
    "prob = e_z / sum_e_z  # (300, 3)\n",
    "log_prob = np.log(prob)\n",
    "\n",
    "y.shape, log_prob.shape"
   ]
  },
  {
   "cell_type": "markdown",
   "metadata": {},
   "source": []
  },
  {
   "cell_type": "code",
   "execution_count": 6,
   "metadata": {},
   "outputs": [
    {
     "ename": "NameError",
     "evalue": "name 'e_z' is not defined",
     "output_type": "error",
     "traceback": [
      "\u001b[1;31m---------------------------------------------------------------------------\u001b[0m",
      "\u001b[1;31mNameError\u001b[0m                                 Traceback (most recent call last)",
      "\u001b[1;32m<ipython-input-6-70927b69bc51>\u001b[0m in \u001b[0;36m<module>\u001b[1;34m\u001b[0m\n\u001b[1;32m----> 1\u001b[1;33m \u001b[0mprob\u001b[0m \u001b[1;33m=\u001b[0m \u001b[0me_z\u001b[0m \u001b[1;33m/\u001b[0m \u001b[0msum_e_z\u001b[0m  \u001b[1;31m# (300, 3)\u001b[0m\u001b[1;33m\u001b[0m\u001b[1;33m\u001b[0m\u001b[0m\n\u001b[0m\u001b[0;32m      2\u001b[0m \u001b[0mlog_prob\u001b[0m \u001b[1;33m=\u001b[0m \u001b[0mnp\u001b[0m\u001b[1;33m.\u001b[0m\u001b[0mlog\u001b[0m\u001b[1;33m(\u001b[0m\u001b[0mprob\u001b[0m\u001b[1;33m)\u001b[0m\u001b[1;33m\u001b[0m\u001b[1;33m\u001b[0m\u001b[0m\n\u001b[0;32m      3\u001b[0m \u001b[1;33m\u001b[0m\u001b[0m\n\u001b[0;32m      4\u001b[0m \u001b[1;31m# 1. 用 𝑦 构建 one-hot 编码 𝑅^(𝑛×𝐾)， 再对位相乘\u001b[0m\u001b[1;33m\u001b[0m\u001b[1;33m\u001b[0m\u001b[1;33m\u001b[0m\u001b[0m\n\u001b[0;32m      5\u001b[0m \u001b[0mone_hot\u001b[0m \u001b[1;33m=\u001b[0m \u001b[0mnp\u001b[0m\u001b[1;33m.\u001b[0m\u001b[0mzeros\u001b[0m\u001b[1;33m(\u001b[0m\u001b[1;33m(\u001b[0m\u001b[0mn\u001b[0m\u001b[1;33m,\u001b[0m \u001b[0mk\u001b[0m\u001b[1;33m)\u001b[0m\u001b[1;33m)\u001b[0m\u001b[1;33m\u001b[0m\u001b[1;33m\u001b[0m\u001b[0m\n",
      "\u001b[1;31mNameError\u001b[0m: name 'e_z' is not defined"
     ]
    }
   ],
   "source": [
    "prob = e_z / sum_e_z  # (300, 3)\n",
    "log_prob = np.log(prob)\n",
    "\n",
    "# 1. 用 𝑦 构建 one-hot 编码 𝑅^(𝑛×𝐾)， 再对位相乘\n",
    "one_hot = np.zeros((n, k))\n",
    "one_hot[np.arange(len(y)), y] = 1\n",
    "prod = one_hot * log_prob\n",
    "\n",
    "# 注意不能直接求平均， n个样本， 不是 n*3个的值\n",
    "np.sum(prod) / n"
   ]
  },
  {
   "cell_type": "code",
   "execution_count": null,
   "metadata": {},
   "outputs": [],
   "source": [
    "# 2. 以 𝑦 作为 下标索引，直接选择对应的log值\n",
    "indi_v = log_prob[np.arange(len(y)), y]\n",
    "np.mean( indi_v )"
   ]
  },
  {
   "cell_type": "markdown",
   "metadata": {},
   "source": [
    "# 主线总结\n",
    "\n",
    "本节基于 一层全连接 + softmax 分类 + 交叉熵 cross entropy loss， 简单介绍了 NumPy的一些常用函数和机制（不是背后的实现机制）\n",
    "\n",
    "1. 创建ndarray\n",
    "2. ndarray属性: 类型与形状，变换方法 astype/reshape/transpose\n",
    "3. 数组运算函数， dot/matmul, 扩展了下 batch matrix multiplication, 因为PyTorch有单独的函数 bmm. \n",
    "4. 数轴axis及广播broadcasting\n",
    "5. 切片slicing与索引indexing\n"
   ]
  },
  {
   "cell_type": "markdown",
   "metadata": {},
   "source": [
    "# 其他\n",
    "\n",
    "## 排序\n",
    "\n",
    "> np.sort(ndarray, axis=-1) 即默认最后一轴\n",
    "\n",
    "## split 划分数组\n",
    "\n",
    "> numpy.split(ary, indices_or_sections, axis=0)  \n",
    "> args:    indices_or_sections: int or 1-D array"
   ]
  },
  {
   "cell_type": "code",
   "execution_count": 4,
   "metadata": {},
   "outputs": [
    {
     "data": {
      "text/plain": [
       "[array([6]),\n",
       " array([3, 7]),\n",
       " array([4, 6, 9]),\n",
       " array([2, 6, 7]),\n",
       " array([4]),\n",
       " array([3, 7])]"
      ]
     },
     "execution_count": 4,
     "metadata": {},
     "output_type": "execute_result"
    }
   ],
   "source": [
    "a = np.array([6, 3, 7, 4, 6, 9, 2, 6, 7, 4, 3, 7])\n",
    "idx = np.array([ 1,  3,  6,  9, 10])\n",
    "np.split(a, idx) # 按元素位置进行分段\n"
   ]
  },
  {
   "cell_type": "code",
   "execution_count": 5,
   "metadata": {},
   "outputs": [
    {
     "data": {
      "text/plain": [
       "[array([6, 3, 7, 4, 6, 9]), array([2, 6, 7, 4, 3, 7])]"
      ]
     },
     "execution_count": 5,
     "metadata": {},
     "output_type": "execute_result"
    }
   ],
   "source": [
    "np.split(a, 2) # 按数组个数进行分段"
   ]
  },
  {
   "cell_type": "code",
   "execution_count": null,
   "metadata": {},
   "outputs": [],
   "source": []
  },
  {
   "cell_type": "markdown",
   "metadata": {},
   "source": [
    "# 结束语\n",
    "\n",
    "NumPy 作为 数值计算 的扩展库， 我一时只能想到 深度学习的例子， 肯定不够全面\n",
    "\n",
    "以后能用到、想到时， 再更新——大概不会了。\n",
    "\n",
    "更复杂的 数值积分、 傅里叶变换， scipy的各种函数，  如果熟悉经典方法的应用场景 肯定能很容易地上手API接口。 单独的、又很熟悉的三五个函数名字 搜一次， 差不多就能记住了。\n",
    "\n",
    "## 时间花费\n",
    "\n",
    "PPT制作： 在别人PPT基础上， 不干活2、3天， 磨蹭2、3天，真开始改写又是2天。\n",
    "\n",
    "notebook制作， 也花了不少时间， 1、2天吧——下回计时——如果有下回的话（PyTorch)。"
   ]
  }
 ],
 "metadata": {
  "kernelspec": {
   "display_name": "Python 3 (ipykernel)",
   "language": "python",
   "name": "python3"
  },
  "language_info": {
   "codemirror_mode": {
    "name": "ipython",
    "version": 3
   },
   "file_extension": ".py",
   "mimetype": "text/x-python",
   "name": "python",
   "nbconvert_exporter": "python",
   "pygments_lexer": "ipython3",
   "version": "3.8.8"
  }
 },
 "nbformat": 4,
 "nbformat_minor": 2
}
